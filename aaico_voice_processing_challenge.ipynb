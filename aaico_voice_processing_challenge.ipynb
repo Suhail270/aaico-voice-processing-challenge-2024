{
  "cells": [
    {
      "cell_type": "markdown",
      "metadata": {
        "id": "YE_Sf0jEgcxX"
      },
      "source": [
        "# **AAICO February 2024 Voice Processing Challenge**"
      ]
    },
    {
      "cell_type": "markdown",
      "metadata": {
        "id": "RAvukRH_bBkp"
      },
      "source": [
        "### Install"
      ]
    },
    {
      "cell_type": "code",
      "execution_count": 3,
      "metadata": {
        "colab": {
          "base_uri": "https://localhost:8080/"
        },
        "id": "LbEpt6FKZo6D",
        "outputId": "c4774ac2-17fc-4d2b-cb00-09996e567299"
      },
      "outputs": [
        {
          "name": "stdout",
          "output_type": "stream",
          "text": [
            "Requirement already satisfied: pip in /opt/homebrew/lib/python3.11/site-packages (23.3.2)\n",
            "Collecting pip\n",
            "  Downloading pip-24.0-py3-none-any.whl.metadata (3.6 kB)\n",
            "Downloading pip-24.0-py3-none-any.whl (2.1 MB)\n",
            "\u001b[2K   \u001b[90m━━━━━━━━━━━━━━━━━━━━━━━━━━━━━━━━━━━━━━━━\u001b[0m \u001b[32m2.1/2.1 MB\u001b[0m \u001b[31m2.9 MB/s\u001b[0m eta \u001b[36m0:00:00\u001b[0ma \u001b[36m0:00:01\u001b[0m\n",
            "\u001b[?25hInstalling collected packages: pip\n",
            "  Attempting uninstall: pip\n",
            "    Found existing installation: pip 23.3.2\n",
            "    Uninstalling pip-23.3.2:\n",
            "      Successfully uninstalled pip-23.3.2\n",
            "Successfully installed pip-24.0\n",
            "Requirement already satisfied: librosa in /opt/homebrew/lib/python3.11/site-packages (0.10.1)\n",
            "Requirement already satisfied: audioread>=2.1.9 in /opt/homebrew/lib/python3.11/site-packages (from librosa) (3.0.1)\n",
            "Requirement already satisfied: numpy!=1.22.0,!=1.22.1,!=1.22.2,>=1.20.3 in /opt/homebrew/lib/python3.11/site-packages (from librosa) (1.25.2)\n",
            "Requirement already satisfied: scipy>=1.2.0 in /opt/homebrew/lib/python3.11/site-packages (from librosa) (1.11.2)\n",
            "Requirement already satisfied: scikit-learn>=0.20.0 in /opt/homebrew/lib/python3.11/site-packages (from librosa) (1.3.1)\n",
            "Requirement already satisfied: joblib>=0.14 in /opt/homebrew/lib/python3.11/site-packages (from librosa) (1.3.2)\n",
            "Requirement already satisfied: decorator>=4.3.0 in /opt/homebrew/lib/python3.11/site-packages (from librosa) (4.4.2)\n",
            "Requirement already satisfied: numba>=0.51.0 in /opt/homebrew/lib/python3.11/site-packages (from librosa) (0.58.0)\n",
            "Requirement already satisfied: soundfile>=0.12.1 in /opt/homebrew/lib/python3.11/site-packages (from librosa) (0.12.1)\n",
            "Requirement already satisfied: pooch>=1.0 in /opt/homebrew/lib/python3.11/site-packages (from librosa) (1.7.0)\n",
            "Requirement already satisfied: soxr>=0.3.2 in /opt/homebrew/lib/python3.11/site-packages (from librosa) (0.3.7)\n",
            "Requirement already satisfied: typing-extensions>=4.1.1 in /opt/homebrew/lib/python3.11/site-packages (from librosa) (4.7.1)\n",
            "Requirement already satisfied: lazy-loader>=0.1 in /opt/homebrew/lib/python3.11/site-packages (from librosa) (0.3)\n",
            "Requirement already satisfied: msgpack>=1.0 in /opt/homebrew/lib/python3.11/site-packages (from librosa) (1.0.7)\n",
            "Requirement already satisfied: llvmlite<0.42,>=0.41.0dev0 in /opt/homebrew/lib/python3.11/site-packages (from numba>=0.51.0->librosa) (0.41.0)\n",
            "Requirement already satisfied: platformdirs>=2.5.0 in /Users/suhail270/Library/Python/3.11/lib/python/site-packages (from pooch>=1.0->librosa) (3.10.0)\n",
            "Requirement already satisfied: packaging>=20.0 in /Users/suhail270/Library/Python/3.11/lib/python/site-packages (from pooch>=1.0->librosa) (23.1)\n",
            "Requirement already satisfied: requests>=2.19.0 in /opt/homebrew/lib/python3.11/site-packages (from pooch>=1.0->librosa) (2.30.0)\n",
            "Requirement already satisfied: threadpoolctl>=2.0.0 in /opt/homebrew/lib/python3.11/site-packages (from scikit-learn>=0.20.0->librosa) (3.2.0)\n",
            "Requirement already satisfied: cffi>=1.0 in /opt/homebrew/lib/python3.11/site-packages (from soundfile>=0.12.1->librosa) (1.15.1)\n",
            "Requirement already satisfied: pycparser in /opt/homebrew/lib/python3.11/site-packages (from cffi>=1.0->soundfile>=0.12.1->librosa) (2.21)\n",
            "Requirement already satisfied: charset-normalizer<4,>=2 in /opt/homebrew/lib/python3.11/site-packages (from requests>=2.19.0->pooch>=1.0->librosa) (3.1.0)\n",
            "Requirement already satisfied: idna<4,>=2.5 in /opt/homebrew/lib/python3.11/site-packages (from requests>=2.19.0->pooch>=1.0->librosa) (3.4)\n",
            "Requirement already satisfied: urllib3<3,>=1.21.1 in /opt/homebrew/lib/python3.11/site-packages (from requests>=2.19.0->pooch>=1.0->librosa) (2.0.2)\n",
            "Requirement already satisfied: certifi>=2017.4.17 in /opt/homebrew/lib/python3.11/site-packages (from requests>=2.19.0->pooch>=1.0->librosa) (2023.5.7)\n"
          ]
        }
      ],
      "source": [
        "! pip install --upgrade pip\n",
        "! pip install librosa"
      ]
    },
    {
      "cell_type": "markdown",
      "metadata": {
        "id": "rk6vQlVRbF7j"
      },
      "source": [
        "### Import"
      ]
    },
    {
      "cell_type": "code",
      "execution_count": 1,
      "metadata": {
        "id": "QC-5fqjPfh51"
      },
      "outputs": [],
      "source": [
        "import librosa\n",
        "import numpy as np\n",
        "import time\n",
        "from IPython.display import Audio, display\n",
        "import plotly.express as px\n",
        "import pickle"
      ]
    },
    {
      "cell_type": "markdown",
      "metadata": {
        "id": "tElnB6HLfT_t"
      },
      "source": [
        "### **Audio parameters**"
      ]
    },
    {
      "cell_type": "code",
      "execution_count": 3,
      "metadata": {
        "id": "FBO1Ji6MfXC_"
      },
      "outputs": [],
      "source": [
        "# Desired sample rate 16000 Hz\n",
        "sample_rate = 16000\n",
        "\n",
        "# Frame length\n",
        "frame_length = 512"
      ]
    },
    {
      "cell_type": "markdown",
      "metadata": {
        "id": "tM08YfUxZ7u0"
      },
      "source": [
        "### **Open audio file**"
      ]
    },
    {
      "cell_type": "code",
      "execution_count": 4,
      "metadata": {
        "id": "BIdyMIjVZ9ff"
      },
      "outputs": [],
      "source": [
        "# Path to the audio file\n",
        "audio_file = \"audio_aaico_challenge.wav\"\n",
        "\n",
        "# Read the audio file and resample it to the desired sample rate\n",
        "audio_data, current_sample_rate = librosa.load(\n",
        "    audio_file,\n",
        "    sr=sample_rate,\n",
        ")\n",
        "audio_data_int16 = (audio_data * 32767).astype(np.int16)\n",
        "\n",
        "number_of_frames = len(audio_data_int16) // frame_length\n",
        "\n",
        "audio_data_int16 = audio_data_int16[:number_of_frames * frame_length]\n",
        "audio_duration = len(audio_data_int16) / sample_rate"
      ]
    },
    {
      "cell_type": "code",
      "execution_count": null,
      "metadata": {
        "colab": {
          "base_uri": "https://localhost:8080/"
        },
        "id": "STw48TN4Fwhl",
        "outputId": "9c0473e7-7357-400c-957f-c2ad6408ec97"
      },
      "outputs": [
        {
          "data": {
            "text/plain": [
              "array([4, 7, 5, ..., 0, 0, 0], dtype=int16)"
            ]
          },
          "execution_count": 59,
          "metadata": {},
          "output_type": "execute_result"
        }
      ],
      "source": [
        "audio_data_int16"
      ]
    },
    {
      "cell_type": "markdown",
      "metadata": {
        "id": "zAM5ACo7pun7"
      },
      "source": [
        "### **Play and visualise audio**"
      ]
    },
    {
      "cell_type": "code",
      "execution_count": null,
      "metadata": {
        "colab": {
          "base_uri": "https://localhost:8080/",
          "height": 75
        },
        "id": "o8kR9UzNpEuJ",
        "outputId": "876b9fe5-e4ee-4521-88cd-70cfbf8d3d8f"
      },
      "outputs": [
        {
          "data": {
            "text/html": [
              "\n",
              "                <audio  controls=\"controls\" >\n",
              "                    <source src=\"data:audio/wav;base64,UklGRsSMAABXQVZFZm10IBAAAAABAAEAgD4AAAB9AAACABAAZGF0YaCMAAAAAAAAAAAAAAAAAAAAAAAAAAAAAAAAAAAAAAAAAAAAAAAAAAAAAAAAAAAAAAAAAAAAAAAAAAAAAAAAAAAAAAAAAAAAAAAAAAAAAAAAAAAAAAAAAAAAAAAAAAAAAAAAAAAAAAAAAAAAAAAAAAAAAAAAAAAAAAAAAAAAAAAAAAAAAAAAAAAAAAAAAAAAAAAAAAAAAAAAAAAAAAAAAAAAAAAAAAAAAAAAAAAAAAAAAAAAAAAAAAAAAAAAAAAAAAAAAAAAAAAAAAAAAAAAAAAAAAAAAAAAAAAAAAAAAAAAAAAAAAAAAAAAAAAAAAAAAAAAAAAAAAAAAAAAAAAAAAAAAAAAAAAAAAAAAAAAAAAAAAAAAAAAAAAAAAAAAAAAAAAAAAAAAAAAAAAAAAAAAAAAAAAAAAAAAAAAAAAAAAAAAAAAAAAAAAAAAAAAAAAAAAAAAAAAAAAAAAAAAAAAAAAAAAAAAAAAAAAAAAAAAAAAAAAAAAAAAAAAAAAAAAAAAAAAAAAAAAAAAAAAAAAAAAAAAAAAAAAAAAAAAAAAAAAAAAAAAAAAAAAAAAAAAAAAAAAAAAAAAAAAAAAAAAAAAAAAAAAAAAAAAAAAAAAAAAAAAAAAAAAAAAAAAAAAAAAAAAAAAAAAAAAAAAAAAAAAAAAAAAAAAAAAAAAAAAAAAAAAAAAAAAAAAAAAAAAAAAAAAAAAAAAAAAAAAAAAAAAAAAAAAAAAAAAAAAAAAAAAAAAAAAAAAAAAAAAAAAAAAAAAAAAAAAAAAAAAAAAAAAAAAAAAAAAAAAAAAAAAAAAAAAAAAAAAAAAAAAAAAAAAAAAAAAAAAAAAAAAAAAAAAAAAAAAAAAAAAAAAAAAAAAAAAAAAAAAAAAAAAAAAAAAAAAAAAAAAAAAAAAAAAAAAAAAAAAAAAAAAAAAAAAAAAAAAAAAAAAAAAAAAAAAAAAAAAAAAAAAAAAAAAAAAAAAAAAAAAAAAAAAAAAAAAAAAAAAAAAAAAAAAAAAAAAAAAAAAAAAAAAAAAAAAAAAAAAAAAAAAAAAAAAAAAAAAAAAAAAAAAAAAAAAAAAAAAAAAAAAAAAAAAAAAAAAAAAAAAAAAAAAAAAAAAAAAAAAAAAAAAAAAAAAAAAAAAAAAAAAAAAAAAAAAAAAAAAAAAAAAAAAAAAAAAAAAAAAAAAAAAAAAAAAAAAAAAAAAAAAAAAAAAAAAAAAAAAAAAAAAAAAAAAAAAAAAAAAAAAAAAAAAAAAAAAAAAAAAAAAAAAAAAAAAAAAAAAAAAAAAAAAAAAAAAAAAAAAAAAAAAAAAAAAAAAAAAAAAAAAAAAAAAAAAAAAAAAAAAAAAAAAAAAAAAAAAAAAAAAAAAAAAAAAAAAAAAAAAAAAAAAAAAAAAAAAAAAAAAAAAAAAAAAAAAAAAAAAAAAAAAAAAAAAAAAAAAAAAAAAAAAAAAAAAAAAAAAAAAAAAAAAAAAAAAAAAAAAAAAAAAAAAAAAAAAAAAAAAAAAAAAAAAAAAAAAAAAAAAAAAAAAAAAAAAAAAAAAAAAAAAAAAAAAAAAAAAAAAAAAAAAAAAAAAAAAAAAAAAAAAAAAAAAAAAAAAAAAAAAAAAAAAAAAAAAAAAAAAAAAAAAAAAAAAAAAAAAAAAAAAAAAAAAAAAAAAAAAAAAAAAAAAAAAAAAAAAAAAAAAAAAAAAAAAAAAAAAAAAAAAAAAAAAAAAAAAAAAAAAAAAAAAAAAAAAAAAAAAAAAAAAAAAAAAAAAAAAAAAAAAAAAAAAAAAAAAAAAAAAAAAAAAAAAAAAAAAAAAAAAAAAAAAAAAAAAAAAAAAAAAAAAAAAAAAAAAAAAAAAAAAAAAAAAAAAAAAAAAAAAAAAAAAAAAAAAAAAAAAAAAAAAAAAAAAAAAAAAAAAAAAAAAAAAAAAAAAAAAAAAAAAAAAAAAAAAAAAAAAAAAAAAAAAAAAAAAAAAAAAAAAAAAAAAAAAAAAAAAAAAAAAAAAAAAAAAAAAAAAAAAAAAAAAAAAAAAAAAAAAAAAAAAAAAAAAAAAAAAAAAAAAAAAAAAAAAAAAAAAAAAAAAAAAAAAAAAAAAAAAAAAAAAAAAAAAAAAAAAAAAAAAAAAAAAAAAAAAAAAAAAAAAAAAAAAAAAAAAAAAAAAAAAAAAAAAAAAAAAAAAAAAAAAAAAAAAAAAAAAAAAAAAAAAAAAAAAAAAAAAAAAAAAAAAAAAAAAAAAAAAAAAAAAAAAAAAAAAAAAAAAAAAAAAAAAAAAAAAAAAAAAAAAAAAAAAAAAAAAAAAAAAAAAAAAAAAAAP////8AAAAA//8AAAAAAAAAAAAAAAAAAAAAAAAAAAAA/////wAAAAAAAAAA//8AAAAAAAAAAP//AAAAAAAAAAAAAAAAAAAAAAAAAAAAAAAAAAAAAAAAAAAAAAAAAAAAAAAAAAAAAAAAAAAAAAAAAAAAAAAAAAAAAAAAAAAAAAAAAAAAAAAAAQAAAAAAAAAAAAEAAQAAAAAAAQAAAAAAAQABAAAAAQAAAAEAAQABAAAAAAABAAEAAAAAAAEAAAAAAAEAAAABAAAAAAAAAAAAAAAAAAAAAAAAAAAAAAAAAAAAAAAAAAAAAAAAAAEAAAAAAAAAAAAAAAAAAAAAAAAAAAAAAAAAAAAAAAAAAAAAAAAAAAAAAAAAAAAAAAAAAAAAAAAAAAAAAAAAAAAAAAAAAAAAAP//AAAAAAAAAAD//wAAAAAAAP//AAAAAAAAAAAAAP////8AAAAAAAAAAP///////wAAAAAAAP//AAAAAP///////wAA////////AAD//wAAAAAAAP////8AAAAAAAD/////AAD//wAAAAD//wAA//8AAP//////////AAD/////AAAAAAAA//8AAAAAAAAAAAAAAAABAAEAAQABAAEAAgABAAEAAQABAAEAAQABAAEAAgACAAIAAgACAAQABAACAAIABAAEAAUABQAFAAQABQAEAAUABQAFAAUABAAEAAQABQAEAAUABgAIAAYACQAJAAkACQAKAAkACQAIAAgABgAFAAUAAgACAAIAAgAAAAAA///7//v/+P/2//P/8P/v/+3/6//p/+n/6P/o/+j/5//l/+X/5f/l/+X/6P/s/+3/8P/z//T/+v/8/wEABAAIAAkABgAJAAoACgAJAAkACAAJAAYABQAFAAIAAAD8//r/9v/3//j/+v/4//f/9//z//D/7//w//P/9v/7////AAAAAAAAAAABAAQACAAJAAwADQAMAAoACQAJAAgACAAIAAkABQAFAAgACQAFAAQABQAEAAYACQAJAAkABAD//wEAAQAAAP//AAABAAQABgAMAA0ADAAOABAADgAOABEADgAMAA0ADQANABAAEQATABMAEQARABUAFQAVABUAEwATAA4AEQAMAAYABgAAAAIAAQACAAQAAgAGAAoACgANAAwADAAJAAQAAgAAAP7//P/3//T/9P/z//P/9v/0//D/8P/t//D/8P/v/+z/6P/l/+P/3//a/9//2f/Y/9X/1f/Y/9b/1P/V/9H/0f/Q/83/zf/H/8n/yf/H/8r/zf/M/9L/1f/W/9z/2v/g/+T/5P/o/+v/7//y//T/+v/8//7/////////AgACAAUACgANAA0ADQANABEAFAATABEAEwAXABQAFQAVABUAFwAZABwAHAAfACEAJgAmACoAKwAuADIANwA6ADoAPwA+AD8AQQBBAEYARgBKAE0AUQBSAFAAVgBUAFEAUgBOAEwASgBKAEYARgBCAD8APgA+AD4APQA9ADsAPgA6ADsAOwA6ADoANwA0ADMAMAAsACwALAAoACoAJgAjACMAIAAdABwAGQAYABEADQANAAkABgAFAAEA///+//r/9//w/+z/6//l/+H/4P/d/9n/2P/Y/9L/0P/N/8n/yf/G/8X/w//B/73/vf+3/7f/sv+w/67/qv+n/6f/p/+j/6T/o/+k/6D/o/+g/53/nf+V/5j/l/+X/5n/mf+U/5T/mf+V/5j/lP+Y/5v/mf+d/53/of+c/6D/nf+g/6j/of+q/6j/pP+r/6v/rP+r/6//sP+2/7D/s/+4/7f/uP+7/8P/u//D/8f/xf/H/8r/0f/N/9D/1v/W/9j/2v/f/+T/6f/w//f/+//+/wIABAAQABMAEQATABcAFwAZAB0AIAAkACYALgAzADkAQgBMAE0ASQBJAEoARQA+AEIAQQA+AEIAQgBIAE4AUQBUAFgAWQBWAFkAVgBYAFYAVQBVAFYAVgBYAGEAZwBpAGkAaQBsAGwAcgB7AIIAhQCKAIoAhwCKAIsAiwCHAIEAewBzAG8AdgB3AHYAdABwAHQAdwB4AHsAdgBrAF0ATgBDAEEAPgA9ADsANgA2ADoAQgBFAEkASABDAD8AOwA0ADAAKwAoACMAIAAgACAAJwAmACoAJAAmACcAJAAkACAAGAARAAwABQABAP///P/+//r/8//3//r/9P/v/+z/6//o/+P/4P/Y/9b/0v/R/9H/zf/O/9H/0P/O/9T/0P/N/8z/zP/G/8X/wv++/7v/vf+7/7f/tP+6/7r/t/+6/7b/uP+3/7P/s/+z/67/rv+u/6v/q/+v/67/sP+w/67/sv+y/6z/r/+z/6z/r/+o/6r/qv+r/67/rP+r/6r/qv+r/6v/pf+k/6j/p/+q/6r/q/+w/6r/rv+u/6z/sP+y/7b/tv+3/7j/t/+4/7v/vv/F/8P/xf/K/8z/zv/O/8z/0P/R/9D/1v/S/9j/3f/d/9//4P/n/+j/6f/r/+z/7P/y//L/8P/2//f/9P/2//j/+v/+////AgAEAAQABgAKABEAEQAMABAAEQANABMAFwAVABQAFwAZABsAHQAgACMAJAAjACMAIQAkACoAJgAmACoAKwAoACoALgAwADAALwAwADYANwA2ADcANgA2ADQANAAzADYANAA2ADoANwA5ADsAOgA5AD4AOwA+AD0APwBBADoAOgA6AD0AOgA9AD8APgA7AD8APwA7AD4AOwA6ADsAOQA2ADcANwAzADYAMwA0ADQANAAyADMAMwAuADAALwAyAC4ALgAwAC8AKwAqACcAJwAmACQAIwAgACAAIAAgAB0AHwAbABkAGwAZABcAFwAXABUAEwATAA4ACgANAA0ACgAKAAoACQAIAAUABAACAAIAAAABAAAAAAD///7//v/7//j/9v/3//T/9//y//L/9P/w//L/8P/v/+//7f/p/+f/5//o/+f/6P/o/+j/5//l/+X/5f/k/+X/5f/k/+T/4f/g/+D/3//g/9//3f/d/9z/3P/c/93/3P/c/9r/2v/a/9z/2f/a/9z/2v/c/9z/2f/Z/9z/2v/a/9r/2v/Z/9b/1v/a/9j/3P/c/9r/3f/f/93/3f/f/9//4P/g/9//3//f/+D/4f/j/+T/4f/h/+P/5P/n/+T/5//o/+n/6P/o/+n/6//s/+3/7f/r/+z/7f/w//D/8v/w//L/8v/w//b/9//3//j/+//6//v//P/6//v//P/7//////8AAP//AAABAAAAAAAAAAAABAABAAIAAgACAAUABgAJAAoACgAJAAkABQAJAAYABgAOAA4ADgANAAoADQANABAAEAANAA4AEAATABQAEwARAA4AEwATABEAFAAUABMAEwAVABUAEQAQABAAFAATABQAEQATABQAEQAUABQAGAAXABUAFQAUABMAFQAVABQAFQAUABMAFQAYABUAFQAVABcAGAAYABcAFwAVABcAGAAXABUAFAAXABQAFQAUABUAFAATABEAEQATABEAEQATABAAEAARAA4ADgANAA0ADAAKAAkACgAMAAkACQAGAAYABQAFAAUABQAFAAUABQAEAAQAAQABAAEAAQAAAAAAAAAAAAAAAAD///7////+//7//v/+//z//P/8//v/+v/6//v/+v/4//v/+v/3//j/+P/4//f/9//3//j/9//3//b/9v/3//b/9P/z//P/8//z//P/8v/y//L/8v/y//D/8P/w//D/7f/v//D/8P/v/+//8v/w//D/8P/w/+//7//v/+//8v/w//D/8v/w//L/8v/w//L/8P/y//D/8P/w//D/8P/z//T/9v/0//T/9v/3//f/9//6//j/+P/4//j/+P/6//r/+v/7//v//P/7//z//P/8//z//P/8//7//v/8//7///////7/AAAAAAAAAAAAAAAAAAD//wAAAAAAAAEAAAACAAIAAgAEAAIAAgABAAEAAgABAAQAAgACAAIABQAEAAUAAgAIAAIACQAEAAYABAAIAAIADAAQABQAFQAVABAADAAVAAwACgAFABcAAABVAGkAuAD0ADEBJAGxAX0CsANPA3oAZ/zw+sT7ofpr/c8A4ARgBxoH4QNH/sr6h/mt+SH5AP6zA3cF5QbyBj0Fyf/3+sn3f/X59In3G/yUACoFzgWrBMkCKv+W+Zv2w/b6+1wCgQW5Bt4GAgWQBOUCTAENAoUCswMNABX/WP1u/AT71PkT+vr8NACnAQwFxASwAs8A0QBK/sL8p/2CAKkDFgfPCfYMbw03C2cJOQKe+5n2ffo9AEkF5QrADBAMRQRL/Yj23e9H7hzwfPPW+Lj6ZQB4Adr5CPL77bXu/u8L9i/8ggPKBmAI/AOuAlEF6AM2A64GEQvBDKEOHQt/CXoFlwF4+fP1pPgT/C4CYgZwCkUMzw4wCML/UfrK92X2svbx+TD+ugSmBtkD8P+h+g32TfR98nD1EfvxBBkKYQvCDfgLgwWO/jn7VPiM+cX86gLXBs4IEAjkBdwBAv1t/IT7t/yiAZYFeQZ9B5EHdAWaASX+WfoC+qL8aAJBBQ8GnAlEB3IFef/c/Kv+kPyS/ar+HAMaA6EAj/6Y/hb9DfvH+3r3RPYe9+b5mfpk+mb6gvrH+dv4LPYB91v3kfWB9CDxePG/8+D1RvYc+A/51Plt93f2PPco+XP6a/1sACcCLAUcB3wIZAevB5gIoAjoB9IIHQumDGcPVhK1ETsSlxBzD/wOfgwrDWgNHwzoCi4K0Ak0CdUF/gE+AED+zf4i/33/8v80AFf/tvxw+cf2MPa29kX4ZvcZ+Cj6CfsG+s36svvM+8r6G/pm+un6C/yv/RX99PtQ/pz9XP+u/sH+1gBk/wj+Of5u/kz+ef7a/osArv4Q/Tj+0gDEATsD9gW3B/MHXggNCCAGJgUjBC8DQQCi/jf+zf43/r3+Yf6j/OP57PNq8aXtjev26V7p/+m/6hvtx+yQ7BPsZOun6hHp0eq37tfxhPa0+iQBYQYGCiQNEhBlEzcYlx5FIvIlpifaKuAsQiyGKt4onSUcIpYfchzUGaAVUxQJEigNgwivBM4Ae/1g90rxGe6l7DLt3+y27Zbumu+/8IXydvJP87n0zfRj90X5AfwB/wsC3gViBiEGTwfcB+EGDgYyBTsEgwMfA30CLwHJ/8v96fu++en2h/Tp8u/xOfEC8Izvre818lL1Bvje+Zn62/sV/ngApgGVAtUCNgP2AuACFQGD/rD9WfsJ+Ar1qfC07Pfq/ec45eXjAOKh4cbhieLM5NTlS+cU6pzqt+s07sPwqfTR+RQAJQa7DbQYdiRzKu8rny0PMPkxRTHILS8phCVII3ciJCFXHkYcLhqfFgYS9gvSBkkDff6s+Pzyou7g7Znu+O677kfuEvAp81/1jvY497j4jfrE+wz9bP7SALkEFAf9Bm4HbQj8CbgKjgkQB4kElwOTApAAfP6+/Cb71fkd+KL2NvWB9DL0e/KC8NTv5O9l8K3woPCj8oD2NPtc/6ACBAYmCV0LQw2dDYAMPgrjBiMDQP76+SX3x/PB7hjqH+dy5cPjLeJR4Z7fMN6G3bXd8N1U3kDgQ+Jq5LrnBuze8S353P8sCZUUMyCSKZAuPDMqOnI+uT0SPGs5EjffMsUu5Ct1KF8ljiKrHsQZghXbEakNQgUM/P70r++j6gTlEeE03xffG+CF4inmFuoz7qvyCvYc+Jv6NP4BAikDMAOKBZwIkQv5DU8PZhHOEmUTUxMFEnoQ8A0YCnQFWwBn/I351fX98UDuROyk65nqy+ka6ZroaOk+7Vzyq/Vw+I/8bADbAuQESwe7B1AFawOaAW7+7Pvu+YL1Je8W6wLpJeaj4gzgqt332rrZGNmX123XtdjE2TvbG95r4hnoPu/Z934DyBDYHCwlhyzlNg4/gEH9QUNCpUC0PAY5dDZEMqouBSw1KN8jIyEoIO4bjhPEC7YFkv4O9gDt4eVi4BHbgdjm1/TYytti3wLk7+dT7IHyLvet+a/6G/wv/y8BmAJ1BF0GOQmCDPMP9RLhFHIXWRiQFh4UhBHpDiQK0QMC/vj4NvUM8tbuP+yE6szpcOkr6S/rZ/Di89X0nfZn+f/8k/62/9D/ZP0k/Rb99PpR+FP36fUe8SDtVOvx6U/n1uNB4BDd7Nt72/HaoNlx2aXav9yf35nhouaz7ZH0nf1OCXoVMh/oJl8wODn6PEVAGEOBQmE/GTwPO9I30jIHMEAtlSnHJYokdyLxGzgVWBB7CrQBA/kL8h/rTePw3VTbwNnO2Tbbyd3H4O7kBuvn79HygfXu94b6Ufzm/X3/qwCCAhgF6AfjCm4O3xHQE4YUgxW3FUwUdhGaDakIIQOH/p369fVS8WHuX+zC6pzrzfAi9OD0Fvjq+1/+vP7R/yL/wvmu9hj1SvEB7Rvr0OmN5XPjTOT15AbkdOIW4dbeXd463k3d2tqB2LDZfdtx3Q/f3eOv6tjwp/q2B8IV4h5lJ5kxEDqsQPhDDkdRRfNAwj21Oow49jOTL9QrqSjnJt8lgiSQIJkawRTUD10JOAHF9x/vsecg4PHaUdjj19DXH9ib29Xgy+bQ7HvxrfTS9vz5Sv07/tb9Gf4q/00AewK+BTcJWAxjD+ESKRUfF24Ychf9E8AOpAoRBl0AKPo19LrvBuxj65LuMfHU8Zz1Rfr5/WwAVgFfAYD8zvjV9Srwt+ps5vXiIN413Ajdtd1g3uvecd/E3+jgEOIz4ZTej9xz3DHc7dsJ3a3fcuRF63j1/gL8EMkbrCbjMos91kVuSIZKGkrnRMVAQzwNOE4x1CpPKDkl5iI8IxQjJSC3GskX4BXiDlsFd/us8vLpWuFN26HWbtPI0k/UldiC3n3l1+wm8p72efscAAYDcwLSAPj/OgCWACIBtQI2BGIHaQtLEI4U8xYUGSYZahdcFCwQKwuvA6H71PRa7xHrp+cF6OTqJex78Fv3QvwCAMUB5gOOAtH+S/w/9hbvYelE5d3gKd1o3GzcmN373hjhwOJo41jl2uPQ4Y7gKN5l3XnbKNob2+Hcf+ON7Vb4VwYuEiAfcC5BORBD9UdnTKhNP0cERPo/9zkEMqoqdCcsIxEhOyIEISoecRtsG2oZJBIeCv8AR/iW7hflMN2w1tjSy9BD0eHU6dpP4jjp1e+a9tT8uQKhBT0FMgRRA2UDHwLZADgByQHcBOQIcA2fEbkUHhiCGfIYWBd/E9cNEQY8/un2BfB96q/lWuKk4hPnDOug8G33Lfx7AGkEVAfvBU8Bmf0y+DTxO+wy6EXjH+Ax4BThveJ65avnmehJ6I7o/uet5DPhvdyr2JXWjNWN1YLXWtzM5AnyBwMEEWoc8CufOg9FekijTL5QhkkyQhE+uDlaMl0qbSfAIwUhQCPCJPIiKh5BHB0bgRRDC6r/ZPVk6yfh0NgV0ujOOs4nz1TTZ9rV45fsofPI+Vv/NwWWCCgInwVYA98CfQLvAVECfAM9BwQMLBEbFlsZFxyKHJEaVRfEETELUQLI+FHwaum25KHght7p3/LkHur+8Fr5ff6QAUgF7AeKBbMAW/yt9nnv1epI6FHkeuLD4w3mf+ho6zHu6e6G7SbsYel75JjfN9rH1OrQEtDk0OnSoNiv4vfwGAOvEakfqy4DPClHsEnVTGxODEiGQJQ6rTZxMN4pPiepJE8jeyXzJzEmSiApHbcZTBIvBz76X+9T5EvaqdJTzRzMPc1y0O7VBN7t6EDyafmP/qwCpwdpCakIugWsAo4CLQKdA2cF2QfZDKoRTRdQG9kdWB/BHKUYjRJvCwwDCvk38IvnteFD3rzcPt344KPnVuxP9Ib9uQGlA38FBAfGAsL9UfoZ9I7t5uor6jznX+db6tjsiO5y8GzyIfGp7jLr9uRu377ZYtQj0IfM6MwNz2/Urd1Y6F75Qwx6GiUo7zXRQtpJZ0r9TP9K0UM5PXU4lTR8LZcq+ig8JmYloyaVJ/shoxvAFjoPBAVg+KbsAOID2DDRK8z7ykzNpNGZ1+veFelw88X78QHCBcMIYQvtC4YK9gfOBoQHQQjYCjkOLBJ0FqMZwhzEHVIdNxoHFIIMbQOp+sTxM+mp4eTbnNnZ2B3aUt775RfsfPHz+scBjAS7BSgISgbxALj+svtC9jXytvIo8XnvmvFO8/Tz7/Jf8nvwzutt57TgMtpv1MbP6cysyVvLD87h0lLauuXE9qwI3ReUIzoz0D9ISZVLU0zpTgpIV0EAPYs6NTWbL2csHycOIw4jXCO8GtsPswqDBHn52uxD4hva69Bry2rKscrnzqPV49xG5MruXPzABkcLag54Eq8W1hcXFmAUyxJLE14TfhTVFp0Xxxj3F8YV7BKBDu8IIP859HLrPeQ/3vrXQtRe0kvTktYB2+Tgkuh+8qr5fgJ/C9kQihN6FYwWOxMQEG8NkwgNAqn+3/vt9ujzq/Gs7hbqZ+bC4/veFdpa1LPP3srKx8rGhsdzyqPNrNYX3h/qnPfICHQgjTF5PyNKNVc4YgBkM1+aVpZLHkCoNOYokR7uFZcMcwNv/2v/rvzp8tToieL720TXVdG7y+TJ2MuL1PHe4ux8/SILaxZXIWEtZTaWNhAzUC0AKHIjCh2gF2QPiAm2Bc3/9/wC+DnxFeiP3e7YT9RP0KHMJcuQzuTVpt+p6dLzL/2cBSUMohELFgAYwhmNH2AkvisALsssRinBIGQaxwuZ/OfpStkkzbbEu8EuvwvDsMdCz/HWjd6Q5HXk5eHj3MLZUteB2Hnb8+Cb7Qj9Ww7fGA8qrDuTUSdfXFpyVrdLEEqyPbEqlBtRC+UB8fhc81fx9exe56Lhf9xL37/fnN4P2yjb9OQk8Vf/hQlBFEkfEyg+MQY3lDe1MgUrwiP2HUgZJRTIC1wCHPt/9tLxjeoS4ofXqtAazVvNStHU073aAuON78P96AgtE9kXjhyvHhsf1x6eG54YkBI/Dt8LpgklBpf+M/a68sv0RPb59gHybvDy747xDPIB7zPuOOlB6ATo7e288W7yOPPy8cr1UvnN+Un1Ge6P6lLkj+Ee327gGeNZ5U7ryfEd+rL+EQqKHJc600I4QiBBFUmxUI8/6jB7ILEV/waF+rf1YvLP7PXni+I34xLprOse597cQOAa6if02vtlA0UQ7RqqJj0xHTeXOOkyoSncH1UZORNHCWD8vvK77SXs9ujF4/bcsNcj1knVd9ii3I/i3+kV8pH/2QtjFz0eSyCcIbAfUh+uGaASMwrQAtP9Y/lh9rLxC+wA7DPxJvej/+L+3v6x+yT9a/2g90b1Ke6+7Mbr/PDj9DP1RfWL8J/t0+s465nmhN8u2U/V6tVu22DjM+kR7UvvK/ej/igNyBscN+1O4FA7U1xS4l26Ugc69STtDkz+luy341/fR9hM1SrWXNYS3t3j4+cj4zDioPB5/lYNkRcBJFUx3jkcRSlHDkLpNvcmuBg5Cn8AS/ew67vhttvC26Xbmdj91NnQJNFs1O/b3eYZ8T/+XQqcF5wkAy3yMFos1yY/H/kW+Q0GBHP7HPJE7JDocuUA4kzdyt0c5gHwtv6nBfAKJQ1UD28S8Ao+BhX9efb38D7vd/Cs7kjtfeiK5JLjV+T14a3cothq12TYB9wV4FzlbO2L9CT/igNkDfoe0zrnWqFbyVcfUvFTqUuOLmoZZgLo7W3dcNTC1hfYBNb818TVb96Q6u3x4vTn8lYAThBBINkuezcMPzQ/LT17OPguTyPfEI/8v+416KXmwOJF3UjaMtnB22Ddmt763/biR+kq8isAmA/wHLckFShzKggprCSSG6QP0gJU9wbwEeuD6BHm0eLl39reGOAY4l/oHvfaBQUVbSA1KLAqtiXkHoEPXwAn81To9N9b2/vbPd103xTgDOBB4Gzhv+Fo4GHfit/Z4Uvkgedf7Ln4dgXiDQ8U3xZEI2Y721f1WixLxz7QOzgyUBocBpXy6ODQ0InN1NMS3HfgIuIc42DqWfobB3YMnQvJErEeriopNHI4Wze0L9olNBv2EbEHlvmi6Ufevtuq323kiOUX5XnlEunJ7YHy6vc6/AsBeQdTEJ4anCGXI6Ef0Rc8D/oGsf5C9nrtO+ZQ4sLiqeaO6fLqourV6zPumfJa/P8PziGrLtI0hDNDLX8fHBJo+tLlo9azzDvJVMwL12HcuuOK6ErrtOyI7tbuHuoE51jny+hv6qjwwPgIBQsL2Qw4DB8JzxGzIulBNEw6QXQ3ejNkNFIfvQkm98Pj89XM0NXY3+Xl6/jwmfMB93kFjQ01Ea0LhgolFOIb3iU2KyIrMCcmHncU/AtEArj4TesH4WjgZuXu7kXzs/TO9Yb1W/cV+MX5gvwG/p8BGwfiDlkXzhkmFwsQ+wVQ/nj28fGU7TDpf+i06aTvmvSP9+D3bvaU9ej1iPw2DyohPy88NBExVSeOFd4G8O4k2+/LScO5wkjJTtrU5Rrv+/I/9MPzFPN28rbsJeeI5I/nfe1N+PIEGAvpCEgBP/pd9Yr3YRD9OjJQfElNPTBDqUagLjIS3Pbk4OfQF8up1i/m3fLh+mL5HvvlA/cKbwtnAMD+0QiOFRYley6FM8QwvSWaGGQLTQA29ejmAN1j3T/mpvPF+pv8h/vX93j1N/Kf8r/1Hfmg/38GGhHQGwMg/hxMEqsFW/n07qjrkOmK6BnpCOwO83P4tPsC+272NvI48br81hMxJW03ZD3aNlUkLQ7c/Bbhys/Nv225P8BNz0viku1R9xD4avXK8GrtEe0y6sLlXuc98X35IwBxB0oKywOn+bTtveo7+DkffEyEV+pMQUMaSVA+BRyIAXzr2NfpyQLN++HU9fv/cwKT+/v6XQCpA1wC8PuUAp4QaR9vLnc2+TfgLoEc7wn0+yryKOvs4kbh5egL8w7+eAGFAAP8bPNe7jbr3e729yMAZgnTEFIYYx5EG6cSCQUe96Xsg+YW6rXujPKU9W738/o5+3b5sPWV8C/uXfYREDMmODe+P0k4yyOgB2L2Q97dzCzDM719xdLSxuYM8pr5/Phh8CDqXuR65zjv0vZl/UYCtQc4Ay/8ivY68onwP+ZZ377jRPr0LBNfrGktWGVGCEAKKZMH+vcW60XhoNm033H2IwjYDJcCN+7c5CHnbe7E9uX96g5WICgs+jXAObU1SycdDVb5DvC17w32ePWl+aL95/4KAFX4GvIS6pLg/93M4HPv3AFnDysZ6xm/GIQVbg0DBrX8dfTe8CryMvrZAPsCd/+d9qPvBui44ynkVOfn7+QHviNkNp1AezzXK2kLhvLx33TSt9DVzqfVy95a6+zycPFD7EPiwdqE2CDfEO8bADALEBCNDfsFaPgG7ZXhp91S4crmwu0A92MRwzuoZ69pQU3gM34pyhge/7z4i/ns+DjzVvRn/JgCRP+Q8bbdZ9Rf3vLvywEzEOAhMi6dLtUrdSZuHzgVvgSF+sz4dgD5Cd0KwAj5AVv5t++i5cHgsuBq4izn1+7O++oJXhEvEhEN4wavAlYAnwGpBMMFawftBugH1gUR/5/1T+o24wjf/ODy513wMQEbG64rfDLnLfgkJRHY+XjreN6Z3lXgl+S96X3vgPNn7M7jodpq1TnVU9xU7Af7KQg0C1cHPv0v8FXl/9zW3HXi1uz/+ocGDw/yHsdA7WISXZNC/SthIy8VBwZqB0AH1QIZ+RDy2e6x7m7tPOcb2vjZkugF/EoO1xoeKBUqLCTaHTMY/Bd+FhMRCwwRCkMOAhA/C90CfPhT7ZTjct6d33fmWexK8SzzjPch/rMA8gEvAcwBzAMLB68NHBO1FGcS6gudBYf+0/YU8O/qweg052Honuuh8qUG4Bc7IFYfDhq/EtIDPPt48AnuJ+4y67bs/e4D81zuKufH2xLS8tJk19Tgd+7B+7YB/P83+0bug+Zg297a5eHZ7cT5sv7BD0sUnxywM2ZWPlwESM80Wi1rIdESOBNgDVEG1voF8sbov+U66kLrj97M3Vfn9vamBhYRcx7wHREcdxnFFlYabiA7IFQc0xUXFgoVYg4jB2L7AfIk6GriseJZ5uPq7eve6FToVum77przd/g5/lUDrAvHD/4WghlaGB0TcQsuBUT/Nvzb+SD1cvFj7HnvwgJND6AZcBJ/CE/56O2u7xjrjfJt86/0qPBs7SPwPOxT6dLexdhR15/aV+Vm7UT0HfXK82vtH+XQ5A/koeln6zzz4vjY95f2JPiWBqMgd07mY+BfwUofO2AqUhbjGHYcCRwfFZcJZQDz9XbyY/D83vzZjtnq5OjzAgM7E2oT4w7qB2YCoQa1EZgcQyQlJZYlNyJRHcQYuQ/kBdX6NfLe8dnwMPXl8nfrl+IV15DVDNa038XpFfMp/F4B4gg7CpMMjA6sD7EQyg2hEqoPXRMHIBYieCCTEOAHaPoU8LnsKeR85vrjBeHk2JjTxtPj05/V+NTx2jbhjOdn62/qbe7c8CX0o+9v7/vwRfIx+238HQbyBDH/9vZZ5GvoZ/j9MgBpjGOdRBoQaPU26+b2+BwdNJ9EETsdFkH+ffbH/UH9//XK+3QEfxNpHkIcGBWhCOz0+uWN5pkBVR31LJ4qTRmGCBP7Tfer+pYEDRM9F34QXgeeAK76QvI+6UnjBOUZ62j11/dW+YP2iO6156DjlOpk93YC5QpRDfoR6RgaHbgd+BRODvAHCAJh/i78Tvsk8nblOdod0DPPoM7K0c3VRdos4hHlmeb95O3jjt9N3S/grOSC8Jn11/iG+in3svd9+Yz/4QA9AA/+n/cZ9KT3thaANXBDgkM/Ks8dIg9vEkcnajCdSVBFeTBRHrIJKg1mC9MQzhq5FkMYcBDQBjf+ffoE+jby2/Qa+foCHwkZBYQDYfqX9/H2lfgGBbgQ7hj7FLwJeP5B9SX2zvcT/zQD0gMM/xXxWevY5xvqje/A8Av0cfiH+44BCAF9AMj+ePiB9Hfyy/Z8/Lb/7fvB8nPq/+EL4lPlReqQ75PspOjv4HfeVuID5cfrEu457Ojo3ONu5KjlfOqc70jyl/FI8sX1xPl0/m8CMwV9BkIIvwjiBhsHUgvNDZgWaR28JPknbSVaIskcphv1H1om1SwhMJItQif7HMEYPRZbF4kbpxyDHaEY5BF6DIUHawfKBo4I/QjnBX0EMADE/Rj9Lv06//wAkQJZAqT/bPss+Jv3U/cX+cj5X/lF97TzavH577/wkPIH9FL00vK28RnxcvCc8J3xKfQO9ej0YfNs8eXwmO/D7lntcuw978b15/xJ/8r84PQf7IvjHeMN7lb8rQmaDRkF2PSa6D7mEuxZ9Xb9Z/+K/dv5CPXA7x7t7+/a9ssA5gcPCfMDIfxX9sv0d/cF/JYAdQS3BsEGDwSYAIP+bwAEBbwJOg0DDiQNmwseCiMKEgvJDB8PaBBiESIRtxCOEHAQbRHHEvQTthSoFDgV8xTyFI4U6hPbE0QTeRMAEwsT+hGkEeEQ/A9WDQALPAu+DKINtQwBCtEF7wGL/kn9O/4/AQMBPAIi/hv3EPI59RP3LPnl/Sf9vP1i/On/2P/2/pD5mPJn7U3tdfEw8VjvW+pV5nLlWegS6z3sZ+u46RXpjerB7Fnu2u4B74Dvo/CM8S7xxvDs70LwJPJ09GT2/PZZ9jP2tvbB9xn5LPqo+tX6R/uw+zb84fxB/gb/uv+oAG0CggOFBJgFNQa7BisHfgfVCGQK4gsoDdEMcwwvCxoLIgrdChIM8A3uDEoLugxcDG0MIgyXDEQM1Q3gDxoOTwyCClQKUQvmC7wLxwleCJsHywhICTsJHAgFCPkIKgkSCEIGlAQnA3UDBQV9BrgFkwQ1ApoBBwItBF8Cyf8w/mb8K/3e/c3+rP23+/34c/j+9zL42/cM9+b2svcp+MD2bPal9az1//UB9xr3bPay9uj1JvZx9i/3w/eV9/72wfaJ9/P3H/jf96z3oPfN9xj4QPlr+fz5Mfv8+7f8K/29/Gb8Mvzy/FH9oP2z/Vb9v/1g/d79DP60/uD+qv/U/+n/1QD4AKgABQC+/4kA3gFVAvMCagJFAgMCogLzA08E9gStBNcE5ARnBTUFAgWaBagF8AUZBi8G/wVWBmwGywYXB4QHEggQCF8HSwcrBxgHbwfEB1AISwgKCAEHKwaWBSwFTgUmBccEoAQ7BA8E6AP9A3wDGgOuAhYCyAF8Af4AlgAOAOH/GAAMAPz/6f/j/y7/1/5s/mP+bv4W/h7+zf2l/bz9J/1d/eH8S/3w/OP8FP2+/Fr9/vxJ/T/9M/0O/UL97vxd/Vr9+vz9/PL8Bv04/Rz91fxa/f/8zfy6/IT8efym/Lf8yvwF/Vj9G/33/DP9Af12/Vj9GP1//a39/f0m/kT+MP5I/jv+bP6l/oT+q/6p/uf+6/4u/1//F/9C/xD/5/7P/ub+Of9V/8P/xf+I/4X/KP9N/3L/ZP+j/2D/CP/n/tr+4v4V/zH/M/89/0L/I/86/27/mf+U/6v/s/+r/9L/yv/s/xAAFAAgACcAKgBCAGUAZABrAFkASgCJAI4AwADTAOUA9QDvACwBUQGTAdwB9QH0Ad8B3AHhAf0BDQIfAk0CRAKFAncCWwJVAiACDQImAjwCQQJLAhcCDQLWAeIB5QHlAe8BywG6AacBjgGOAYsBqQG0AXUBpQFGAQsBBAH6AB0BJgH3AKQAgwBSAHsAhQCBAIkAVQBDABsA5f/r/w4AQQBwAG8AIwC2/zH/7/4V/6r/TACSAFkA2f9T//L++P5R/+j/YQBjACwAyf9v/1T/X/+2/ygAkACvAHsADgCr/0H/Nv9r/9T/SgCGAFAAzf9Y//H+3/4T/3f/5/8vACMA0P9V/+v+x/7q/ib/gf/G/+H/wv95/zL/Cf/+/gz/Qf9U/3D/aP9E/x7/+P7m/uT+9v4R/yT/Mv85/y7/HP/2/un+9f4e/0r/bv93/1v/QP8n/xf/I/9K/3X/pP+2/6v/kP9y/2D/Yv+B/6r/1v/a/9//0v/F/8P/xv/Y//P/CgANABMADAAIAAkAEAAgADMATABQAEgAMgAqACwAKwBJAFgAYQBvAGQAVQBIAD8AMwAwADcAPwBIAEMAQQAvAB0AFQAJAP//9//7//b/+v/4/+j/8//k/9//2v/M/87/xv/F/8X/tP+w/7f/uP+4/7b/uv+u/6f/pP+q/7L/uv/K/93/5//n/+f/4f/f/+f/6//z/wwAGQAnADQARQA7AD8AQQBCAFYAXABwAHsAggCDAIUAiwCOAJUAnACZAJwAoQCoALAAtwDCAMUAxgDGAMIAwwC8ALgAtwC3AMIAyQDVANkA0gDHAKsAwwCvAKEAuACnAMMAqAC6ANwAuACjAI4AiQCcAJEAhQB/AHMAggB2AGUAWQBGAEEAOQAsAB8AFQAOAAoADAAIAAAA+P/l/9L/0f/O/8n/v/++/8H/wf+3/7L/pP+g/5z/hv+K/4P/fv+C/37/gf92/2z/YP9X/1D/Qv9I/0X/RP9G/0j/Uf9G/0X/Pv89/zr/Pv9E/0D/TP9T/1//Zv9s/2P/e/9r/3//b/+G/33/lP+V/7T/qP++/7b/t//B/7//3P/O//r/1v8MAOD/IADc/zcAyf8sANL/NwDh/0YA8v9WAA0AVAAvAEMAegA/ABkB2wFIDu4CFvvE/Qj9FA1MDmEGcQ9oA/f5fP1K+M4DVQfsBa4GV/6Z9dbxFfJC97XzIPv989XyEPoG8GT3N/K19IT31vilAH8BIgW8+rn+YPUI/+sA4QOoFEYCjQpL9yr/lP5gAMMLAwL1EK//Pwj4BWL/cQhJ/6YLKADYBrQAzwmQBmj4Nwo88jYKv/aDBN4LLPo7DfvvNAD8CKj4SgM1Avr+5ATFBEcI/vw3ARsAfP3pAwoI4gna+vkIJ/ooBBsHovyTDOb5aQxO/jsEyARjAJj+Hv6rCh319gu6ANL7QwE5BQ36Yfb0DXX0SAc1BSn8dADO9iwDQPy5BC/6kASu9wP93QX/+DQEdfkbAj35E/wRC9j6gfpOAIjyqf3g+nP8KQE0/Wf/Bfoj+EX/1AF/ABz8RP9w+qoD//gM/VQFjfj0AE/2cvwe+eQKuPl6/j7/S/s2//b0ggao/7T78PxO+YDzEgQA/yLtlfcc/4j5tfhN/WT2SPqxBEH0kAAf/Y792ATm/jUBFAOqCVzvEwQCCtvzXgeVBrkBpPMYDzD9wvWgEXb5kgPf/8QJDwTx+qgC6QWN+AgCTwze9tABcgxd/hMETwmQ+nAD0AamAlYBeQmNADn8yQ/hA1IDjAG1+MwHYAYnAuQK/QRA/MEGHgSsCM4G1AbqBCf6awMnDX0EgAKoCl3++vQADMkEfv+RC/7/JgCp+hQCqvbYBS0L7/T39ZT/kAC4+HUMYftG9Uj7t/R9BUYDYwx3+ybqBv2/+pD/sQuuAVjzKft6/eb27ADeCQEEEvw19Bn5xQLsB0QGrfa17w33zPtHB9QOuw9hCsb/fv8jAikLNhplEf8K3g5MB6cNKhOUD/kOHwzzAswJVw5sE5kShgUY/zX85AB/CM0IyAbvAvz5H/L88c79VwGsAmr8S/O77j/0CPJi88f2l+/T6crqvPGI70XrKOf65wvimeTv8FXwRuXj6SDktuKu5cPpmvF07pXqXd7w5MLjIeZ67DfpW+cq6HzuBOpq6YDuU/Nc8mfwF/Kj8eP71wuxGeod1RchEugMjhPnIwEulzmzOFoyQC9sKeEsOjXiN2U3RDjFN/g3VDGGLmYmTR5JH6MeQh+/H2canw7nAWn5hPhc+jj8Y/oc+OzvTekj5Rzl6OWm5//o2OSw6QHr1OlK5hrk7ubd69j3qQDiBCkDaf0u+kz6IgLUCnIOygzkB9D+o/dC98n2bvfK+KfxBOpO5sLgwd8227zVttDKzlHSSNBlz8TLk8HHv2HEjskJzq7T8dbq2p3kYPCbAqINTg4kCtYF8xSfKoI5tUSxRKE+cTrTOjRErFJ+WbpWI09zSkBJaEXVQDc7UzTZMCsrBCU+H7IUFgiQ+xTycPFt81rxVOv/4FrZkNJ60KPS3tYm23DbmdkP2L/YQ9wQ4FvkFOri8Dn2Cfiy/uwHxBC5FfQVjBQNGDEcuR3rHl0cBBm8EZIKPgZBBNABKPlc7qbnoOMH4fbbj9Vdzw/JC8U8w5bCB8LTvzu4ALSTtrG9scfOzwzWMt196Oz45wIZBXUEVweXGGUswjp/RLxEMT/DOSE5BEXhVeldPlobUIJGoT/gOQ03RTbMNN8uxyJCF3INuAPh+o7x1+xI7aDr/eZa3prVt89yzLPMDtFg2CPd+9vU14jVstgv4InoYfH4+G39if6e/usAJAZrD7wbVCYRLSUtXyWtHuQcRiClJ9IqHyc/HTkPpAI7+8v4W/ms98fxVucT3XTVltD+zirOas2+zA/JdcMJvz+7Y7skvy3GLs5P1SbYPNz84xDw0gFgD1gUDRT/FDkfxDD2PDtEI0YbRAdBbT/WQwZN71GpTgJGBT4bOhc1TDDiKnIlsh7XFFYLfQRC/RH2JO0R5fnhsuCe3jfaEtQ6z6LNh81v0GrVMtq92+baMdqa3e7kxOyK8zb5eP2CAJsCcwVKCq0Q/hRvGVMhTSdGKdQlhh4iGzgduB9oIgshIhlyDZ0Bj/gZ+AT7AvqS8+voAt7m1wLWu9Y42X7ZpdV1ztzIUsezySjMdMwfzEfPANNR18Xbod9e5GTrPvPQAqwVwx24GqQQOg2ZHJwxSUAeSZFFQDzYMeUqkjGeQZpLyks3QS8z6CcCIM8diyCsJL8ibhdKCPr6evKg7+7s+Owx7rjrW+TX2erQkc930vTWZNxx4Dvhk92L19vVEtx25mXw4/ZB+dn4Cff89dv5NwO0DagUNBbBE4YUGxclGdQb5h45ILAgyRyVF7MU+xFMDRUKrAdsBUoDj/t18q7tBusg6XXpKOfI5eXhstrE1HzURte229Tbt9ms1pfUK9T11f/c0+QW6ubqR+se7DT0HPr/BpEUeRvXGewSbRAyHMIrujNoOWU1HzE6LBYr4y8NPDZAkD1eNIwq8CSxIlsjMyTRJH0eqhQMCGkATv0J/5H9//pb9YruIech4SLfCuIR5bfjT+HU3CjbltqB24jdOuOx5m/onOg76Ijqf+5V8l32yvvx/p0BhAEPAuoD1wjQDwIVcxhcF5oTuw9UD5QRKxcfGQYXTBHzCTgEWQHFARYEHAWhAA75we8M6xjq1+sJ7afsrOgk4/DdANza3vPjjefc5w3mr+Pk4xzm2euD8Zr2TvhL+Of3G/pq/rYFQg89FFsUCQ+aC04Oehe3Hy0mWCc8IxQe9BisGTsftiVeJ4IkSRx+FP0OLA51EWwVzRYkE1cM4gTGAAIAuwJMBfIGqwS0/3758/Rj9Nz25Pmh+9z6W/dt8//vue+V8ub2BPq7+l74YPX/8tXyGPVV+Br7qvv3+SP3F/W69Cr3P/rv/Kf9pfva+MT2RPbf9wb6R/t7++f5kPd+9YX0bvVu9y35cvr0+lP7ePv7+iT6jPmI+Wj60vv2/HD9//z4+4H6jPmU+Sf60Po++2r7Vvv4+qX6lPrv+oj7TfwO/Rv+Wf8sAFIAGQBFADEB/QLEBIAGzgdVCO8HzAZDBgEHzQjyCsUM0g1aDi0OmA1MDfANdg8BERwSjhJlEsYRHxGgENsQZRHfEdwRQRF4EJIPmg6vDQgNZgzDC7MKeAlaCE0HCwaiBPMCbQEhABH/N/5t/ZX8TfvJ+R345vbw9XP1CvWz9B70N/MQ8v7wevBc8IfwcPA58MTvZe/27gjvXO/i7wbw2++m77Lv5u/g78rv0O9K8MrwMfEa8QDxCPEb8THx7vE68krzofO38+P0NvXk9R735fiL+Wj65/sg/Q/+g/8lARECEQNXBLsF1wZKCOsJjAvzDCkOEA//D20RIRO6FEAWvhfUGHcZyhlYGjAbBRybHNwcghz1G1IbixrTGSEZcRhmF+4VUBSwElQRFRCeDkINggu2CdwHEQalBFoDEwJfAKn+7vx5+wL6mvh291f2NvXV82/yN/EO8CHvgO7Y7UntquzS6+bqGurB6cDpy+nQ6cfpfOkY6eXoGOmb6UzqCutp64LrvusP7I7sVe1d7lbv6u9n8OvwiPFk8lbzTfQ+9R320/Z191b4nPkW+2n8kf2P/oH/aABoAagCBARnBZIGjwdnCFQJbAqiCwgNbA6nD5UQPBHeEbMSoROOFFwV7hVjFrMW8xZUF94XdRjLGNgYrBh0GE4YNxgZGMsXMhdBFiMVBxQPE0oSdRFOEOUOWQ3PC0QK+AjZB78GfwX1A00CtABU/x3+Df0A/Of6o/k0+Mv2o/W99O7zL/NQ8lvxX/Bn74zu4e1v7Qjthezl60frwupp6kfqQOpL6lDqPeoi6i3qiOoU67rrTuzQ7Eztwu1m7jDvIPAp8RHy4fKi82L0SfVO9nH3mfit+Zv6aPs4/C79Q/5m/4IAhwFzAjsD8QOuBIYFeQZXBxkIwwhXCdQJWArZCk4LxwsuDIAMugznDBANNg1UDXQNhQ2ODY8Nhg1/DYMNhw14DWcNSg0zDSoNEg0FDf4M6AzXDLUMmAx9DGcMUww5DCIM9gu9C3ELHQu/ClwK/AmICfkIWQinB/EGPwaDBcQE9AMZAzYCTAFZAHD/i/6e/bP8w/vh+gT6Lvlg+I/3z/YR9mD1s/QS9ILz9vJy8v3xlvFA8fTwuPCN8GHwR/A68ELwXfCN8Lzw8PA18X/x2vFF8sHyRvO/8zr0svQ79cb1W/b19o/3Kfi4+FP54vl7+hz7uftW/O/8g/0V/q7+Nf+9/00A5QCIASMCuwI+A6UD/AM/BH4ExAQCBU0FnwXoBU4GwAYrB5AH7AcsCGEIhQiRCJkInQipCLUI1wj0CBMJOwlXCXUJfQlxCWEJPQkHCdsIpQhpCDsIBQjQB5wHawcuB/IGtwZqBhMGswVUBfwEswRtBCYE5QOsA2sDJwPgApsCUwIIArgBVwH+AK8AaQAoAAAA2P+r/37/TP8X/+D+p/5n/iH+2v2L/Uv9Ef3o/MH8pvyL/Gn8QPwN/On7rPuH+037RPsO++f63vq7+r/6tvq2+qD6pfqZ+pT6lvqd+qH6svrN+uH6//oe+z77Wvt8+5L7svvL++H7+vsa/Ef8evyo/Nj8Av0g/T79Yf18/Zb9s/24/db96f35/RX+Nf5W/nD+iP6S/qX+tP7D/sv+3v7p/vn+Cf8c/zX/UP9s/4j/q/+//93/+v8OACoARgBkAIMApQDHAOgADwE1AVUBdQGXAbUB0gHnAQQCHgIyAkYCYAJtApMCowKkAr4CwgLQAtAC4wLYAtcC1wLVAtsC3ALlAuUC7wLuAu8C6wLvAuwC7gLnAuUC5wLlAusC7wLyAvYC+wL9AgYDAwMBAwID/QL3AvYC7wLyAugC4wLcAswCwQKuAqQCjQJ2AmACSAImAg8C7gHSAbEBigFqAUABJAH3ANIAqACFAF8ANwARAOn/xf+k/4L/YP9A/x7//v7f/sX+q/6P/nz+af5O/j/+LP4V/gj+AP70/er92f3P/cT9vP20/bD9qf2l/Z79mP2a/ZP9mP2Z/Zz9mP2a/Zr9nv2i/an9r/24/cP9xP3P/dn94v3v/fX9/f0S/hX+KP4y/j/+Uv5X/l7+bv54/n/+i/6X/qv+tv7H/sn+1v7j/ub+9v78/gD/CP8M/wn/FP8U/xv/Hv8i/yr/KP8u/zP/Ov8+/0j/Vf9Y/13/bP9y/4L/iv+b/6X/sP+//9D/5P/w////CQAgACwAQgBRAGEAdACDAJgApwC2AMUA0wDkAPEA+wAIARIBFwEhASoBMAE5ATsBOwFCAUABQAE/AT8BRgFDAUABPwE/ATsBOQE3ATUBMQExAS8BMAEzATABMwEwATcBOQE4ATsBOQE8ATwBPQFDAUMBRwFGAUcBQwFAAUQBRAFDATgBNQEvASUBIQEcARMBCwECAfQA6wDgANYAxwC7AKsAnACQAIIAdgBnAGAATQBDADcAKAAkABgAEQAMAAEA/P/4//b/7//v/+3/5P/r/+n/6//t//P/8v/2//7//v8GAAkADAATABUAGwAdACAAKgAvACsALwAsACwANAAvAC8AKgAkACAAHAAXABAADAACAPv/7f/r/+P/1v/K/8P/t/+y/6X/nP+F/3r/iv91/1v/Sv9g/0H/Mv9B/yf/F/8Y/xj/AP8A/wD/9f7u/u3+4/7Y/tf+zf7E/sH+vv62/q/+rf6p/qX+o/6j/qL+ov6Y/pb+lP6T/pL+kP6X/pL+kv6U/pT+m/6e/qb+rv6v/rT+wP7J/tP+3/7p/vP+/v4Q/xn/K/87/0n/V/9n/3f/if+b/6j/v//N/9n/7P/+/woAFwAsAD0AQwBYAGQAdACDAI0AmgCpALIAugDLANYA3QDkAOwA8AD6AAABBAEOARIBFQEXARoBIgElASUBJQElASUBJAEiASABIQEiARcBGgETARMBDgEGAdIARAESAYoAXQHPAJkAOQHFAKUA6ADaAKUAwgDFAKcAqACkAKUAkgCOAJYAiQB9AIMAhQBzAHQAdABrAG4AbgBkAGgAaQBdAFwAZABRAFEAYABFAFQAXQA+AFAASgA7AEUAOgA2ADIAKgAmABgAJAAYABAAFAAAAAQA9v/2/+z/6f/r/9z/3//O/9n/0f/G/8b/v//G/7b/t/+7/6z/rv+0/6v/sv+v/6P/r/+q/6P/rP+l/5//o/+f/53/n/+h/5n/mP+c/5X/l/+R/43/jP+F/4X/hf+C/4H/ff96/3b/c/92/3L/bP9w/2f/aP9i/2b/Y/9m/1//ZP9f/2T/Yv9i/2j/aP9v/2z/cP9w/3n/df+F/4L/kP+J/53/lf+s/5//tv+l/8H/uv/O/8H/2P/S/+P/4f/y//j/CQBpAK4CtgWC/en6cP0XAqUGpQMmAaP7Ufy2ACEB5/6SANQBbAFaAesCngPbAwT6PvJN/44LaPgy9JYNhvzR9GMFuQFwACcKNv/b/MICCP2hAJIE3AJoAVMB0f3n+hj44ALlAHb4W/+1ApP7yf42A5H8fv9hBGf6avocBZ0C+P7+/1j/wPuNAzYCGf8OBIIC1v5w/wYGm/uzAhIJiPyQBBr+mv64AbEDtwJSA0cBPQHuAeD6rgXg/pr+6QDs/1T9XwqB/zj9KAjD/34C4wRZAYP6awWQAXv7/QFZAJgAZv4i9kkDAP+lACP9RgHB+7IAuACf/BL+nvyKCCD23gREAWn51AFIAor3Uwkk+ygB9QPa+K0DafwhA3L6ivv0+h8ASQVwF4cDPAJ9/ib2QREXCW0IQvq/7b4K6ADn8jMCBf1B+jcOLP2J/8QBSfgqBTX2JAZHARb99vxoALvyevL6/7f7mfxOAYD9hv01+m/4dP7c+X8FqgHlAKn+9vzHAcT4WQX4Bj74kApl9D8DrfveBdQJofhyAP7/4P3H/V0SAPxjAvQBLvrk9z4M6AD2/pMCdAH8/YD3NxPu9HH7JArkAHDuURAMBLTy/w3R+Uf5+/fWDTLwmA1I+7kDHPg98rIOMAWm/uYBrw+q8yH+F/8TBWgB3gZV8U4VSeg1GwL79f2uC9P0FgO49tEXU/sMCbP0YgQs9DwMHgKL9Nv8Mgz1CM8F0vEj9+72ahYV/Yn8kv0w/csN1utJ/Ez/fhR28gYJBOxBBAUD8AKs+FsFXgZQ8tUSZuI8D5IOugDJ/+H6IAiU/isCwP6NAhoHDwKG86v3E/ycALEDBA2V8hL4QALNCcr9Y/n4/goLS/ht9o8VZfBRCGPvdgQkAOIWEPSq9/j9JP1ZCh7+2ACW7BgNgvMtEXf2VxcJ8NbwRgB0/T4ILQM9CGzz7Qqv+jsI+vp+CNEC4gTc+tsOA/zw8jH+WA1u/sf+9fuO9Q/6kO0EJcrwav///awCde/xA/0iugfB+UHyMgXe8cIKug5b7fL5dQeO5gb5pwLfEbMCMfJECR7xggh9B6wK7Pd79yv8CP6mBNEIcwPp8zr/out/CAH/dCSe6uEAfvdb5DMQ/fwPDBH3XApW8Jn/ov7cCr0EOvIK9jIIfgue/UoGkQOnCQ/2Rvs0AHYPswex9h4Ho/Q1+q4FVwFV+x0BaAqa/cn+vQYp/jkOMgA9AZ8W2v8T/sgDcvx/AQ8LofjeBR7ulf3gFkXwwPFIE/MIPu6cA7D9shGp+0sBZPigAMoKcveoCun6xwbO9yQBpezh++AJUAgc9fz+FwRE70IBlwNJArP07gsS9o/xYADwB8Tzwe+I/lvyqPugA44GHvy+9bT4ZvGjBoEN1/yN/IX5VgFM9Mj+9gbp+gUMHvnfA136FwUGDtX4ZPqR9EwSHQj5BgD3bvewAk8Juv2q/A8MXwA4CaPxnvMQByUN/QFu/ILw3QBBDIgHG/wA+YcGlQIF/xgCowq0+5wKwwDtAzH0LwZACSMF2wytAO0Fof17A2L83AQLAsoGyAzc/F3tLwgUANgFa//O+w0HI/zwAk77cQK8BEkDlP4CAB4G/wXVBBX/W/sBA4cELAGeAAoBtgIv/y34Lf8X+TYD9AAV8rMAUgRfASEA9PJp660BRAegAn0BxfcNARX9l/JKBVj8jf+xA9D0mviD9iAC/P7M+3/4o/rvAAv5AwGd8wD8Bvhn9D4CCQCnB/n0GvL69VIAsv7rAs4CUPyuBJ/6JwCA+Z0A3wFSAZX/fgBcAlD+1AJJ/YACPgiDCbn+G/+gAIgEkg0wCIL/zgLE/tsE8hDGFUsg9hFwCTYRHxXpIH4khx0MG8cYmBpBF2ccgB2VGD8QNg3IEwAXhRbFCpQAcvyaAYAEqQgCBlcFePtH7PTtcO2Z83jzJOtM5W/iEN512+nZPNjU1oLUJ9RC2LfcD9os1R7TN9f32zniDOXr4lrf6NuR1kffh+Tu6ZnoTOCo4+rhEuoR61foFe1A82P3A/fd9VT6SPdL+eH4Pv9wCPoJKwrbAggFJwXpD+cUJBoTHigaYRrrHwQmIzH2PbFHG0hqPaA9vT+/SExPX1DKUtdOdEgyRnNBzD+cPdw39jPkMI0riSQFHfgNzwaY/tL6cP3392zzy+jz3uzYa9WS2W7dNt7m3abco90O3o3h/+Zj7DDwTe7s8JjybPOH9nz0WvQ69NLxMfOS8lzuw+iB4jreoN0t3Y3b7dcM1APPbMiIxYDFmMTwxCTFCcVaxefDh8VIyHXJr8zF0e/WOeCU6Avt0e/78h73rvzfA/IK+g7uD+kP/xLkHsc89lt5YMBW9jp/L6U+jEpBXz9rNmRqVps9syveLcYwVjVWMfopaSPiGp8RKwhT//L26vTm8xf5lv1l+ZzvDOYD3ZPf0eXs8J/+igFi/zH5f/WG92f+9AJGCygPaRNPGMkXihV7D0cIVgYqByMI2wu7Bfr7Be1F4DDZRNdu2NjXUNZ20HTIisAevgy+g8PoxgTJyMoZzEzLAMgpyF/J/M4Z1Xjc5uLw6Sbs+uzl7e3wqPjc/rEH8hbxJHY5DVDQUS9OADqvLjs7C0lBV2FjElsxTKY4uiOVIoQgtyI7InsdbRP0Cm39KvW47K/jEeTO5Prpz++48Hft9ex85IPp0fBw+0AL9RKQFooZ/hQ9EkYTExFRGLsZvxoPG7MVQRLzEhcPVA3yBhn/P/7i+ZD20PLG65bk39wP1RzUw9OS1cvV59Ll0VDQsM/K0QHU/tYT21bdnt6q3DDaONhS1yvYM9ln2rHdSuOS6DPwqPVr+jQEoAwtFosr+z7pRb4/OC1NKuY1eD+jR2lLvUf5PmgsXxuLFv8VxxZ0EvQLWAXm/Zv01uza5Jvgpd+B4IDmMu3e8df0lvTi8cLzufaLAFMOHxlWIAghexyIGdMWRxbbGd0aOxt+F90P6gesAXv/FP9o+9D2HvIG8MDvRu1d6+HoceQZ4QLgceF75VDnzuYI5DzhZ+AJ4c7h++Le5MLmtOY24wLf8toQ2H/WAtb22Nzf5eSP6WrsvO4V9XD99AtPIlk8vUwDSso51ir4KU0ztDybRZBKnUQHMwgcAwzdB/IHxAbABOMB5Pwn9e7syuWT4VbfAOBl5uLwZvxoBfsICghsBRcFMQoiFFYgEymOLGMp6B80FVsMlwffBocG5wRmAZL64vHF6PDgBt5Y4Sjn2Oy28MnxifKd8l3zKvaX+VX/igVECWIJzAQt/2P5lvOP8Mzu1ux96UjjT9ww1VTQHM4NzIjLsMpsyo7MVs9g0/PaYeNq7ez3ZwTqFl8wfEthWNZTZkS3Obw8B0d3Tx1VylOgRlUuBRK2/9755fpz+iX4ZfON627i5trd11bZTtyc4Afp4/SGAbIKMRBvEuAS+BIRFX8duykdMpAyniopHg8RZQW+/m/9r/2S+7z1qu3m5KbcYdZF0+zTKddm377sIflDAasCV/8A/I77mgHGDHgWPhrtFusMz/7V8Efp9uhZ7Evu6Oou4kjXmc7FyQHJ9MkmyxHN/c3PzDHOKtNd3D7mCO/39xACoRCBI3c7/1BHWLpNCTw3L+wvpzfiPuFDUkEeM0gZQwAe88rzZPg2+v/4RPY+8Kjpaeer6h/wUfKy9Nb6VwWVD4kXvRzIHcYZExMID/ASwxv0IVYinBs4EcwEtfgE8qnxzPNy9PXxHu5T6ejjIuAl33/gF+JO5Cbq+PYDBmQQjBPvDgkI9QMZBNQJpxG8FVEUSQvr/CDupOMC4cniu+RG467d5NZp0R/Oqc1ZzfjMwMxuzf/PftQV3OHlr++U9u77FwBwCJkVVSmoQYVVg1p1ToM69Sp2J+EpJTAtNf01oizbGRsFmPeN8hry5vOy9b/3XfaL9ZD25Plu+yj6l/jK+xQDJQxfFjEeFSJiHp0UmwqdBjcI5A1jEmET9w9VB7f8x/OK7pbsSuyE7L7te+2n7AvsHuwV7OHqYOnn6anu8/kkCWIVEhpYFiIPiQjDA5kCZAWGCOwI9wM1+w7xF+fm35XcgdsM2lPXKdWF1XnXtdmi2pvYd9TN0BfQjtO82UziDe0C+EkAAAXmB9gMFha0JIw3lEcZTnRIWTz0MZQr4icKJ8AoYCrzJ4cfPhVEDCgFx/+//Gb7efkG9ujzMPY++5z/EgGzAC3/Bf2d+838twAmBjgLxA5wECQPtwvdB9wEcwMhA9ICSALNAIn+VPxC+i/4HPba883xwO/B7avs2Oy37rTx3PQ++IX8YADLAz4GagcCCCYHaAVrAzQBO/7U+kH3A/Tg8NbtEevS6GvnIOZj5TnlI+UU5arlZeYX5wTn4OUJ5bTkyeRV5k/pz+yP8M/zAfdq+pn9GQF9BfELdxQnHNIgWCHMHpIcahvYG6Me5yFGJMYkHSMbIT4fOh0uHDccjRxyGxIYtBOrD4IMsAr1CT4KWQpNCIYFqgLg//D9iPwB/LP87vwQ/VD91fxf/Bz8pPzZ/ej9u/wL+9X4GPe39WT1f/Zn9/73sPj5+N34OPid94D4Vfrj/FD/vAAWAXYAp/+U/+j/CQAhAL3/Z//q/v/9Q/2v/N/7YPu3+kf5u/Y689Tv3uyi6gDphOfB5YHjCuGF33PeiN1z3Ajb4dkF2YjYyNjx2frbxt5t4u7mr+vk8J338v6nBWoLlA9DE54WYxlXHTIjaCnPL0U1oDkJPUk+Hz6RPc88bjsYOSo2ADMeLxsrbScTJX4jLiG2HooccRlOFZ0QKQxpCD8ETABR/Vn6zvbz8pzvw+1H7Anrruov6trodOaz4xbiEeFM4NbgNOJ24wTk1OTb5wvsI/AQ9ED3ovlE+of5WPmY+bn5N/oo+2f85Pz9+5n6mvmX+B/3qfU99NbxFe5E6v/mp+S64uTgBOBp39/dm9w73Cncktx43UPeH+AE4jTi5ePx5FflSuaW5vToQfD6+vAGORE2FikZWRrlGo8b+x0mIyMp/S+hN1E9bUH5QaE+1T6CQMhCWkbxRntDrz0hNAgtzin9Ju4lOSUKJEAiPB7YGIYTAg21B/0DIwKDAHf8OPdF8rns4ehu50jouepC67fqx+mP5w/kv+A/3wngFOGu4qLkreZK6BrpR+v77oTy+fTp9t33QvcN9Xvy9/B88Crw+fBj8tzyxfF87zrtaeuj6SfoheeS5tTkruIW4e7fdN7w3J3cbt2F3ozfrOCi4dbhAeJU4/DlK+kH7Gju3vDl8pf0f/bV+c7/QQduDxkXRB2NIfcjEiWkJgYpuSuoLx40yTiMPII+LT9AP+g+Dj99PzdAuD8YPRA59zPhLnEqtiZFJHEi/x/5HVAb3BeME3EO3wkEBv4BO/5f+un1IfFH7IzoQeaW5JDjX+NY49HihOEY4KveQd0x3PPbWtzI3LjcV91S32nhP+QI55XpCuwy7bjtJ+6b7TLsKeuk6rXq2OqR6h/quenU6BzoM+iM6F/oV+gf6AjoIuje59XnNejD6Ljpcuvc7BTvqfBe8pv0iPY++Az6Ivxp/g0BRgOyBeEHeQlJC94NcBCwEnsUpRWyFmIYXRrnHLofCyLBI2QlVyZ5JjgmkiVbJU8lRyXPJWomIyaiJf4kNiR8I7Ai+yFZISog0B4RHfgayBhnFn4UJBP6EcYQbg/RDQEM9QnnBw8GDgTpAd3/3P28+1D5+fa29K/y+/B67yXu5Oxv6/rpxuiB51rmU+U85FDja+Kl4SfhsOA+4BvgUOCR4PvgguEm4qPiF+Ot40zkDeXX5b7myOfV6PjpK+s/7Entd+7T71/xCvOC9Pj1mfc9+bD6zPv7/Ij+TQD8ARQDcwNFAxgD6gLkAlgDSQS8BVwH6Qj1CZgK9AoDC8UKewoqChUKHApJCq8KywrKCh0LsAtvDGcNPw7uDigP8g5oDuENbw0bDdQMlAxqDGoMkAzXDFkN1Q04Dn8Osg6jDnsOSg4IDrcNYA0BDdcMswzBDPsMOg1jDW4Ndw1uDWQNOw32DG8Mtwu4CpsJmAinB8wG9gUYBVMEjgPOAgcCIgEgABv/5v2r/HT7KPrb+ID3RvYu9VT0ufMz85fy6/E08W7wiO/A7jHus+1I7QHtzOy57MPsuOzA7OfsFe1K7Yrt0e0Z7nPu8e6g71Hw+fCp8XnyVfMT9Nz0kfU/9ur2n/c7+Ob4j/km+tn6d/sS/Iv83PzF/FT8G/yx/OX9Sf+RAJMBJAJcApEC4QJgA/ADWwSHBIkEgASUBMwEMAWZBdwF5wXrBd4F1gXNBcMFqAV7BVkFSgVbBYYF3AVVBtoGQAeRB8oH4AfhB/kHJQgMCVwKigtIDIkMcwwTDKgLUgshC7sKNQqhCRUJnAhcCF0IVQgyCAgIqAdVBw8HqQYrBocFzAQtBLUDTgMRA8YCggJRAhwC8QHtAe4B2AGMAQMBdwABALj/gf89/w//0f6D/l7+Y/5x/mf+Qf4E/rP9Vv0F/dD8l/xY/P/7hPv++oP6NfrN+X75SPkL+dr4nvhR+Bj49vfV99/36Pfh9+f32/fd9+73Ifh3+Nr4Mflt+bj5/vlI+oX6zfoG+yj7RPti+6L70vsA/Ff8l/zR/Cn9ZP2R/eH9H/5h/qL+1v4o/3L/u//+/z8AeAC2AAYBVgGjAd4BFAJBAnECmQK+AuoC/wIJAwcDBQMkA0kDWANnA2ADTQNGAzgDLAMnAykDLwM6AykDHwMgAx8DHAMYAyADHQMfAyQDHAMRAxADGgM6A1kDegOaA6wDqQOqA6kDpgOZA4MDbwNVAzgDLwMtAzMDKQP+AvMCzAK7AsYCrAKUAoACUAIqAhEC7gHmAdcBsAGZAWoBQwE5ASgBDgHsAMkAnACFAHYAXQBJABUA1f+h/3r/Uf8m/wz/5/60/oz+cv5Z/kb+Hv4E/tL9qf2S/XL9Tv03/Rv9Bv3v/M78zPy1/Kf8ovyk/Jj8pvyN/Jv8m/yx/KT8v/yx/ML8yfzY/Oj8+/wD/Qn9FP0B/R3+Q/4e/gn9hPxy/FP8lPzq/Df9s/yb/F783/zz/Fb9hv0s/fP8pPzU/OH8mv7Z/10AY/+d/az8IvxM/B39uv2V/V79zvwy/aX9Sv7U/pz+JP7x/cf9rf4Q/6v/yf8ZABsAIgGQAZcD9wP+Aq0D4QO5BgMIMAxZDT8OTQ0HDhwPWQ71DD0IsQMpAf//VP1J/Ar71fzu/Ij8uPqt+Pj1ofNn8vnvLe7c7dru8u8+8pLzuvW49qP3Dfjd+Jz5bvrD+o36sfuE/EX/6wHvBZ8JeAumDDAL/AhuBU4ECQV/BjkH2wcBB9kFVQYLBoEFGAWPBrwFEwdfB5YJeQtQDFIOug5YEswUFBfLF4wWpBVKExcS3BK2EmMStxJUEpQTdxKwEOoRkQ+DDUcL4wcJB+QF4AWFBZoFJgVnApUAif5G/t76Gfpv+AT5Ovdb90b2hfeJ+Ij3d/o9+Un5xfQl8f3rMPHV8NX0hfIi9LjznfHw76LssPDu7sTwf+xR7gPqSfBG8l314PmZ9xHzk+u760HrpOZU5ubpa+/e9WD8cPll9DPyR+6l7h3nVumJ5g/t5PTk+Cb7Wv7iBFEFLgRy/+X9Hfs4/Yz+yQGPBI8HVwmyDAkP9RUdHzAl9ijhJrIhehkkFY8RMhJCFTEceCIqJdgjFR+BFjoP0Ao0Bt8EXwLMASYB6wDM/5//cP3B+3z4wPNg89fxjfJc8zHyMfLs89H1VvkC+2T6g/k79ub06PJd8Czw3fCf8mP04fWz9X31cfN28lfyNfJc8zf1zfWq9L7y5fEk8/X14vmI/noEugfACTYHQQOc//v6lPnz+aX5SPq7+r/6UPqr9wr0cvGU8brxB/OW9FH1uvRV86vypPLW8WzzlPdS+vD9n/7t/RT84vmr+jj9CgBXBF4H4AjvCsoKCwxbDDQONxDoD0gOMwu3BlkCbgAbAkwOPSH0OD1Ro16hZPxeN1AMQnczMStRLJ0x9zq6RAdFK0CLNFEkAxguDawDqv9x++X3p/et82XxVfB77h7xu/N/8hPyRu0L6QPpC+m37TP29f12B5IO1g6uDBAEHvva9QzyWvFY8vzymvT39CLyaO5c6J3hGdz72HDWNdV203nSktVV2fXe5uTB6Frsde/V8mr5Hf6jAnoEXwS/A8n+ifnJ8dXrs+dE5WrlKOSs4CLdI9kX2KjX89bL10HYS9rK2wHdOd353SrfvOJx5iTpmumd6Lrnsuez6LHqne4L8zn56v68BIoHVgi+BZ0Cw/1r93bxmPDN/9MeeEZxalV+/39dcmhXdjusIqIVthaTI942YkUiRac1oh5bB4X38uyg5qbk2OSI5T7ouOhi6WLscfLn/BIG7AdPAiX5l/L19AX/Yg/8Iagw5ThzOBot0RqgBb309e5Q8Uv3B/wk+wT2Me4U5UTdz9aS0eHP2tF61sHbe9835NHrMPbGAF0IiAqLCH4FDgReBoALmBE1GQoixCvcMgsziys6HXkM3Py28D/oHuR95IDnmut57TTpBuH212DR39AH1S7do+fw8j3+XgbLCuUKTwfCA6oBhQB3AG8AyQBsA4AHxQocC9sH8gGh+kH00u5A6oborOnh7bXzAP7zEZ4v8VBaaNttQGTRTzI5wCj7Iqwp/jezRmdRKFHoQX0mPQfy72Hkr+Aa4aPituJu4o/hfOHu4izkg+QJ5kTow+nf6gXu1/fsCPMcBC4vN1A1fyoYGlkKSv8T+WX4DPykAOoB3fvI7hbfxNDIxrbBfMAxwVbDtMc/z6TYcOHD6NLuRPRZ+CP6h/om/MYAYglVFOAezCV7JmAhvBfqC6r/lfV+8gX4JwIdC3UL8gEx8oTgV9NGzEfMr9GC2RjjI+up7mjuzuvK6tbt2PJg96v5xfol/G7/swRWCZYL7QquB30C9ftF9GztrekT6q/seO/v8Hbv1Oy36aHmC+RN4ovhD+Th8M0Pljo8Y/Z3YXEuWu49gSYMG1wefS3PQUtRVlafSjAvsQt/7bTfut+H4znkoOJb4D7gzuHa5OTnw+mq6U7pSOo57IXwbvubD14nmjoNQVg52igXF7YJ8gSnB7kMXBGsEiwOVwKn8C/epNHLzI/Nd89+0MzQ+9Ho1qvf3ugn7+vxw/LB9B341PwuBLAPiB0MKaMt6CkxIOcURQzNBw8H8gY+BVQCQv8/+9H1ge9367rrxu5h8fXvVOyR6BDoYexz86/6g/+lAToDOASYBBME8gJeBOUGnwl2CtAHywPd/3r9xvzj+i73VPKL7hjuNu9c8MfwkvCL8MXvme0K6xLqS+xK8f332/wC/hT8+fgG+Xr+lA4WLftQ3WqObJNWyTiUIPgV3RoiKi08gEZGQ+8zJBuj/szmv9um3x7q7+8n7unod+XV5VjoxepU6+/o2OWv5m/tTPndB4oXsSWDLPUnRRrjCgQC/wJDCxYWjhwoGswPLAGR8jrmOt1t2ZDafd1r3t3bX9jY1snYpN0B4zvmxub/5mLqrvId/ksJzRF2FmsW2xH8CjgGywZaDIQTgRfWFQ8O/QL1+EHyde9W7pntBu1l7NrssO627yHwIu/D7B/sC+3G8p/7/gThDdoQ2g6SCI3/W/ra+ar+HQYWC+8MAAobBBz9d/VH8AvupO6M8mH2mfiJ99Pz0e9i7GLqA+kI6IPpR+zE71rz0vW/+CT6s/mS+Lf3H/lz/NoB9g70Jt1FHV2SXrdL6zBSG7AUUBxdLT0+REU+QLEwdxrDAejtcOaY7KD3iP5C/Jr09uyX56LkCuNt4bLgFeN86rf1fQBoCMEMGw/MDnMLageXBmALFhUgH1YksCFQF5cJgP2O9gj0sfOH9Dv1hPQw8d/qeONc3QLaN9rq3J/gF+Re593rJPE99eH2GfYH9qv4j/3SA3AKOhGiFlUY0hXRD5wIJQOmAcgE3gn/DIsLpwWZ/XP11+6Q7JfuMfNZ+Iz7evyZ+pv3ovTl8qTz8fRL9hr41Pri/bMAdQJ5AmoBkAAmABcBEQOtBH4FgwVOBGYBYf3K+Ir1dfRF9a316/WC9CPy6u8073Hvb/Ck8qL0L/dz+o795/6k//X+uP54/g3/6f57AEcHLhnrMdNER0YuNh4hMBJ/Evoe7DBvPLE9AjSfJu4Zag8jB8wDYQaKCxcPLgxNBbn83fWa8AruP+ur6F3nPOo58S/4VPpg9Yjt3ufW6F/vH/n6AOIEsgQcAif/Cv30+7z7nf2JAG8D+APTAff9Dfsb+Yr3h/VS8wvyBPKA8wz1cPVg87LvTOwC7GXua/KZ9Yf22PUg9Q/2Qfhs+sX6y/kG+Sj6s/xX/6EAQQA1/w/+r/1U/Vz9af5GAP8Af/9d/RT8IvuU+lX7nf3+/80AUf8v/Wv9sv7iAE4D8wWqB1gIwwagA/z/zP5KAWAFGwhIBoIC7/5W/mL/WgFsAWj/zfx1+338zf5VAccBmf8m/Dr6OPuD//sDCgbQBOMB3P8VAHcCGwWZBg0GWwQFA6YC9gKZAxkEWwTLA7cCCwJbAq0DMgW3BmMHHgcTBmQFRAVABroHPQlICnAK8glLCVoJvQlUChsK3glWCWYJ+gl7CgYLsAoLCjEJgAjhBwMIngjDCBYIxwZwBVoE/APoA8wDfAP3Ai8CfAGeAPz/W/98/qH9d/x0+5n6HPrQ+XT5nviB91L2UfWf9CP0h/Pn8nbyzPE98b7w9PAd8fPwTfCM73rv5+//8NjxcfLY8hzzm/MX9Hn08vSd9cH2A/hF+QH6lPql+hb74vvK/N79f/4q/5j/HACnAC0BbgGUAb0BQgKrAnsDswRdBYkF/gR4BMgEqwVWBogGogYSB80HHQikB88GnQbaBlwHmAdBB7sGWgZWBiAG8AU3BYcE6gPWAykEVwQtBGkDdwKSAUcBUgFsAWUBNQEpATMBKgEaAdwArwB/AHgAfwCVAMcAFQFuAaIBngFLAd4AuAD4ADkBnQGUAUwB5wC2AMYAuACDADcAMwBjAMcA4gDrAMUAiwByAH8ArQDoAC0BbQHAAQMCaAKYAq4CvwLbAv8CCQM8A4YD3gMABAEE0QOPA2EDPwNOA08DUQMWA9ECiQJIAg8C5QGuAWoBGgHGAHgAPgACAKH/L/+X/iz+z/14/ez8c/z/+9f7dPsr+4z6Nvrz+ej4GPjo90n4Rfju9yf39fbL9s72ZPY79l/2bfZt9i32TPaL9tT22/b49hT3c/e+9xb4gPgO+Zr5Efpq+rT6Eftz+/r7lfw4/bT9CP5Z/rb+Rf/Q/0IAsAAeAYMB0AEaAmQCqALvAigDdQPCAyEEagSmBOIECAUnBTYFdgWkBfQFDgY1BisGSwZLBnkGagabBowGyAaOBlUHMQk0B+UDEwK5A40FYAWpAzgDQATuBD0ECgMgA+UDSwSgAykDFgNdAzMD6ALdAigDQQP7AnsCXAJ5Ar8CpgJJAgkCDQLeAdgBxQGZAUMB3AC4AJoAEQENAf8AOgAbAHMA2gAEAWUAMwA/AGwATgBMAE0AoABuAL8ATgCs/xsApADYABwAWwATANr/QwDzAGj/g/9IALwAZADk/jb/8/+cAIr/Vf/X/hUA/v/P/kv+dv7R/6P/g/5C/CH+s//5/Rf+vv0B/zAARP8JAGwA7f9n/vr81/wZ/t39cP0n/W38UP3n++z7j/y6/O/6GfpQ9+X2+/ofBG0Isf2m80T2+f4RAfb7SvZn+iv/9P8i+kj6gfps/sb/9wAdALX7qP1+/AT+9fsm+8X+7v4O+0n5KPjS/+IAMwC9/vv6Vv5aAWQD7ABX+lf7/ABtBHcAVvlb+mr//AQ5BC78V/qOA0cJ7QFx/GP8sAUuAu7+PgKJ/Zn9VfhpA7kVqBgJB+n1o+9CAQEEDgOw/fz2SAFOA+YEdwCb+S73LwIQBRcJnQKx+OP/ffyCAzwB/AMyAPkDnf0D+z4G4f+bC+z3VQNV/foKBgTQAaX+V/vsAjYEpwSGA+EAbvndCEABAQjv+Q0HNwEDB479FQY7AbwJK//E/BECoASGCzD9nwZN9ysFkAVUBXj+PwCOAgUIcwaOCDIEjgUj/X8B2wPVBaX+l/+5Blr+zQBgAKD/HADHBl37M/gxArgB6AO1AQ77ggCc/rsGr//tAeD8jgCp/cUA1f3v/jAF2QBgAHX7TwHR/KEFq/xk/5H6hP5iAm0Brf4Q+Rv+Uvg1BREAwv/0/Jf8Y/zx/f//6wHKAG739vw3/qICWP85/2z6ufvw+1kCYP3tAQwAxvzsAEb4zwHi/WwBDf2p/dH+gwPX/Hr+cf54/U4A0v04AmH77AKw+0IASfopCDf6lvv4AVz/ZAIj+LoCzfe8Bij6GAJR91gC1AGi/dH96/mfBCb3tQhm/vv9N/XVBYn/9v5z+9n8LQHR/LgJy/Ra+Gn+Twk0AAgAhu+HABcCqv/rASoBQ/7w9p8MCAEwC471cvzwCgX3h/su/QYBww4/+jv5U+zZCP8NYgnh80zvZgbU/2MbEu8U+Lb/3ArzCZjvT/tpA84Qgwly8hf+svyzBEwTM/YD+bYEUgO6DEUMuglY41vtFQstKmcMFuYi+04BmAX98SAQvAMZFw34ce/K9SgGwB0BDIf55+rd/YP91xqSCGf3tvf28vf9AgOiAuIa+PoD74XnjgvlGFsAWfvt+kbwTAXIGU74tACd+HQAO/0bCWoEtQSG6DcJKgnqA637LPH0EkQEnQU27VTqnxkkFRz7rOol67IS3BGZF1/sqODf90oXdgpqC4b1r/BwBLgAkPt7AF8FuAGlCdzwRgC182EEkwzJDKDyou8i8bcS7Qnh+4/3pfihEA3wAAYY6XUKIgXoAzER1vsm9MbeO/0pEbwTy/s+A6n1OfRW+4sA1wLgCtMILQF36y/1bf4hBiIYkfcyBV/a+wNcEtQXY/dq7PD/VQF4EXn7Owll62MCxwpQDIH6OPcq8W75pBJV/zcG4QHACDX8KecTBMAGjBYl/cHsxvLUAf8UGwji+xLuZP2/AssKG/x6CokSlgG97tvuP/s2BPQZVApu9Kn2QPFt/NP9PwmoApUG9Qvm5y30PfYUDXwJMgwpBgb7ifgz+9z+T/eVHK4KfQkg5pHtzPv5BjAf5P/3CpvunfbQ7o/4vAWND7IUOvTI+AXo7AXKC1UQBgb373frYPMiGZoS6gtC6cfzl/7DAcj8WPJ4AFsKtBCU/xMAyuqdCGQFkfQs8+n9IRWMBXAGDuep4U/yQRG1GdMI/QFc9ODxtPsgCwEMygtKAJ74RwF872YB9BLPC+wIyOI85kEAeRirHB4Queqo5lnyq/4/E/0J/BPg/OHuAe9t9OAH2xOYHL4DRuZd6aP+7hizHXMN+/gh51z1NQxZBaQMa/i6AnkEEvjX9lTtTPmaBagKkvX7/Yv+eAP7BRv88Pe6BPj9DgwXBAz9ywr/AtkDyfqw/wv8kAFn/1QCJQjHBQwEKPpI/wn/9vbD+1b9yvzL87P6TQiGCtwCSvMS6cD9uwWmD9oJUgRy/5z5zgLj90sGfwELCzT7Ie+g9Ff+hRFPAwf02PDr+gwEIQlLBtr+LPoJ/Mj5ffSG/LMAtAiND6X5Bfgk9sMBmQeiB7ICZ/6fBJn8ggfe/UMEnv1G/6b7UvVC+hoB6RKlC48JAfdB+W/6YQB1Bz0P8RKdDvoKufv/+vH4ZAhnDXgVhRFsA4YA6fqCBaQFrgtJC1cGKwPUAcYAJwLRArr8hvoA9nT1CPxaB38FMgLM+czy7u618YD7Bf/4/2T8QPIQ9FXxJvR592v4xP2L/Kf9Gvgz+mD/LwbUAd/+OPal+dIAUwLVAsP/LfyP+Jz0TvBH+YT5f/0P+g713u7K74HwQ/bN/c74MPlW9FT9Xf7W+3z5Pfa6+t/76v3i+e8ADgOXBmcD0vdL9Gz2Pf7rAmgFyAMkA1MEogSq/toA/AFDCR4JLgiUB4sLJQ0aB+UDDv1V/6UF0xClEloMcQE//Zb6Iv8EBSwNzBn0H/wckBdmEOwPaRUBGrQcXRzyHZUfiiJWHXYXhBEfFNoShA+NDUkNMRCvEEgK0QNV/3n6/vwf/Wv/6f8O/lH6BPYD8//wi/Gf9Mr7dvw/+aL25PNA89LxYfEp8aj1o/rz/MD5ZfPE7v3rGuw47rfy/fOr9JrxAu0K6dXm2uiS6dHsMO+x8OXwNe+s8LXxh/Ny8jbwGvHw80j2cfnO/aL++fxi+yv6YPo/+y/8Vf/VANb/C/yd+Nv4I/g696n42Pn4+gr7uPsA/NH6+flB+eL5Ofop+Yj5rv5VBesJqApICYgHTgYSBsIFfwh8DFsORw5JC94FJv9Z+737AP4bAocG5gmcCmkH8wLe/vT9QgAiAhsF+AY+BosGbwWiA28Ao/ss+rX5R/wiBIIRqx6NI8IfexcvEH8OUBIGGjYmpC9HMW0rYiEGFj4MggjkDPkTtBemFRoP8QlQBJz9pfkt+Uf7Sv3s/M/7h/pS+uP66fqg+un42Pbt9lT4DvmC+m78q/1g/Y/7K/pF+Sz4zfcQ+On46fim9in0tvK/8NTuLe247NLubPDP8I/wJvFV8i/yoPKQ8pbwG/AG8bvy/vRC93b5TPpu+4L70/mJ+tT77Pzn/7YC6wIEAUYAlf8k/Rr8xvyW/l0B8gFJAB7+Kvwh+S/1pvMD9JT0g/Ue9sP1mvTs8nvyNvTK9438pwHlBUwJVwv+CtsIuQZYBRgFxQZBCOwIzgpEDGQI0AF4/Sn7W/oF/E/+AQArAmQCef9p/Gb6dfmV/H0CBwaBBZAEXAMMAuoBDgBc/av9EwDTAz0MlRe7HBYbYRhzEgsMmwvsECYZkyJdKYwpoCNKGnoNCgNHAZoF9Qu4ENcRQQ/GCHn//fdG9UT24Piv/UICkwNiApgAo/5I/o7/X/+x/gn/nP0d+5L70v1M/5n/mP5s+tv0V/GA75rv//J/9m349/jw9vHxL+2J7K7uovGQ9Y/5s/r/90P0ivIQ8771y/my/CX9JvuT9yn0sfNT9gv5Evx5/xEBMf8T++v3hffq+X/9lgCDAeT/mPxX+qD5xfki+6/9aQEBAzgBcP3W+h/69/kA+QP4mfZ481rweO6V76bypPh2AEkI0QyoDEAJUQWnAev+f//FAoIHjgrHC7QJmgWwAEX9F/z2/Gf/qQGrBJsGywY7BAgCdgDd/yQAwABiAdQB7AJkA50DHAJs/yr8ZPwm/mn+8/2M/vX+pf8bBOYLphMxGKwZVxbjEVkN0QrqDEcVOx/hJWwnUCP6GfgNGQTv/hkAgATKChoQaxEnDMIEFv7L+Fv1bfYg+7//DQN/AyAD4wLyAl0BfQAoALL+bPuJ+an5ofoH/Kj9Gf+9/rH7sPYe863xgfIq9AD3ivhs+A32HfOj8P7vQfF480H3qPr6/Cf82/mR9132L/aw9hH4evmg+D33kPbh9oD2B/dW+Rf8T/7T/rn+Hf7r/gL/YP9r/0X/6Pwk+qL5ufky+uf6O/3E/pD/gf7K/Kv6TPoV+1r8IP1f/Eb72fhF9+D1SPZZ+AX9vQGLBFIGhAbkBdEEwgQhBF0D9ALGAiMDzgMwBZgFCQeOBk0C//xA+dH38vey+7sAeAbdCtgMSAqyBVkCeAHMA3gGbgfYBdMEsALy/rj64fb69Sf4Qv2KAaYDygKM/wX9S/zo/UsBFgZxCGcMJxFeE4MQ3wwDDGIM/w+MFPEYUBwfH7EbCxRwCykD3/u3+uH/BQV2CEMJ1AclA/D90/hq9pz3Yvso/3MDRAZ9BsUGIwcoCLUGAQWbAgQAWP3Q+WH4Dfqn/C3+uf4f/XX5//Id7wztK+1a71jzwPio+4/7gfnQ92r2s/U99c73RfrR/F39DP1X/Df7z/kU+E/38faw9tz1+vel+v/9+v5IAJoAZ/5h+lP3v/ZP+Bv8+/+3AlUBY/5w+FD08vKr9Qr7cAFNBqgGAATG/6783vmj+iH9TQLYBfgFvQHs+gL1v/Bs8X71U/z0Ao4JMQzdCsEGzgHN/HD5fPlX+5z/BAV7CmMNig5mC8cEmPzA9ZDygPRj/MkFqg4sFRgXOxOfCgn/DfW68DbzF/rrAnsLUw8jDbAGMf7o9//1Hfih/e4EHAw/EEkQuwyVBVn+nvgq9KjzHPaf+jP/AwTyBygKqAugDF8MYgvuCU8GwwMgA1kFUQgkC0MMYwokBoMBNv8xAg4J7RBAGG0bABg1DtIC3vjc9Nn3hf+3BksM9wwiBwT+dfeG9Wf4zf7jBcIK/woMBzn/x/be8Lfwo/UZ/YQCBwaFBcECB/739yXzz/Di8VLzF/V79lL2CfV99cD2a/c49/T2q/em+E74JvdJ96P3hfeP9n/2oPTX8frxRfQS+UX9bgHGAyoFwgRPAYf9dPsf/Jr9EQGMAksBt/zF95j0o/Eu8WvyEPh8/RMCegRYBbkEQgJ+ALL/rgHcAmUFSgVrAhT8c/VC8NbtTvBI9KL59v8lBisIhwiiByUI1AlNDdYPTA52Cl4DxPxp+Pb33vgW/LsAdwX9BlAFawD6+3X+9gLMB7gJYwzsDZcPfQ9WCxsF3wHuASQChgEC/8T9Av53AJkAuP9YAOwDHwc2B9wBdft29/73J/2IBNYLHRDcE04T6wzjAW33KfK/8rf4Lv9ABKwIHQvyCXQFv/+s+/n85gFXB54IpgaNBSgEsgJZ/h/6PPmh+/8ADQbHCPIK4AzjD4ETshMpEbEMNwukCoMIlQWXBMAE+AW9BC4A+fkV8yrxaPBs8qDzuPaE/OECWwYABcwBr/5k/bT7//u7+376wve99i73/vbZ9YP2h/nz/AkAqADx/lT61/R78K3u3e548aT08PiD+177Svjh8yjxDvF98uf0ePjC/L4AMQIHAWv8dffA83PyhfLi9RX7egAnAzQDtgLPAQsCWgEdAT8BpgIuBFUGQgfYBg8G8wNY/2f3PvB57Xjxe/jM/z0EhAdoBooBMvx/+M/5Mf4DBrcLMAyxB6gA0fl69a/zOfdg/TwCIwS9AhkAtfyU+uL7OwC/B+MO+xJ6FecTlg0jBGP6OvQH8hT14/oPAUMIsAs9D7gOPAygCAgIEAyLDWkNog3MD2wSTBFDDH0HUQKkAG//H/96/Rn7avzOAssLxRHfEUkPKA25Bx//V/fi9ZD8cAYKDo4O4Qba+4nymO3y7AfxuvmjBPQL6gxWBl7+/fjB95z41PkU/Hb/HQWhCS8L0wnHCUINXg4jDAIIjQVGBk0GxwQP/yz5xvVl9cL1pPT+8UryRvai+3AAKgLkA0kD1gD0/OH4LfeT+GP8dwAYAvIBcv8s+vv11PLN8dzyGfaL/GsEtAlcC1UIkQPX/bb1XfAt7VHtnfAa9G/4Zvna+Jj38PNG8rPy8PX6+xQAZAGJAB3+nPz3+N/0WfGg77Pzq/phAO4COwPoBOYGrQaTBE4AiP7k/5sC8AOMAWr8mvgl9jL1lvST85H4CAFYDKkSSxA3CcsBHv+nAMcBlAHTAHf/pAAo/vv4Z/Ie8S/4HAJYB8YH6QUtBGsDDgDTAIgCXgb1CbMKOgiV/9n3CvYj+SP9q/6/AEcEGAcSCPQI0w3lD4kP+AmUBBoG1AdhCs8GcQE5/sj+4wUfDTAQ2hONEn4UvBVSEbkL1gGb/6f8ffxq/q/9gPvc/V4C+wyUDvgL5AVz+/b38vPU+t4EYQ7eEVESZwoPAmvz8Ora6z7yDgBTByQNZw2uCU8J0Qp3C+oQGxGFEmMMxgCX+F7xt/OL9rf1VPWK8qvy2/Mh8V/yvPMM/CoJ8RHPFQ8PNQU4/u78vP0M/gP8MPv99qXxQO8Z7rrxx/Pa9VL1DPU59L32Ovq8ASEInA2bDwYJBP4/7kLky+HQ58btkPGC78ft4et97BvwjfUS/mAGYgwjDcIKXgZBBf8DrwNI/hT6QfdA823sweSN4ljow/Pj/O0BYgJMAoUACgMcBfYF+wfWDtEVyBMVCMP6v/LY8GryjvJ593P7gf9HA1oDrACX+x3+Uwc9D34Rzw0YCgAJ8wj/B2AH9APuAksEJgQwARX9EQDsB6IN0w7bCXoEbgEd/ef/yQUhEPoUYxIdCFb8H/ec92r+hgMZCDcIawrKDK4O+AueCTUJEgvoCkUF7QDB/O7+SwIABjYKTgkXBLIBfgDuAdUAWf+mAQ4EuQnpC6EKOwZp/qb5k/sEAcQEnAUoAwn/h/jk8rDxAvIU/CYGPAyFDGEENgKiAmUFIQTv+tX0UfLK86b36fjJ+pD/EQNvBRcAcfcc8/DwwPhC/Fn+PQDgAHMAU/xl9rr0yvUL+wkD3wZZDYcJigdkAvr8gPey9P/4XP+lA1AEvwFb+3P32vDe8NLxX/UV+fD7zQCJBL8GdAjdAzz+K/wq/JP+Ov1B/2IBcwJqAUz6bPKd8LnyXPrsAPgDJQP0AawBrfuL9fLzq/ig/xkGGAUG/7n34vbf9//4cfke91D5VvymAr8GngkCC/MHGwXN/kn0p+wP7NXzwv9MBDIFGwBo+gb2YfP69yf6Lf/kAo0ImgytErATCxBqB6j8efkt+20EwgdXCS4HiAQ//iH4y/D/77X2uwA1CZcLHAwdCPsHgQrCDCAKuwj/BQ0KYg5oDX0Grvt3+CT1MPu4AEoDdwNABJEIWAhcCE0DgwSkCgoTFhSQDkEHw/6i+63+HgR6BG4A/Pi69db1fvxfBcgRBhcAE1UK1QD8+j/6lAD8BRUK6gfgALb2se5b7aPxDP+OCXIPyA6sBzUB0fq//Hv/vwUbCjYKSQMu97frlOX+7Gv5hggGDZYK/QNL/WX7evnk/vUDOwaDBW4B7PqZ88fwcfRC+Kj7ovvP+DT4ePm4APcEZAf4BogJVQg3BbD9bPVx9Of1uftb+ur2TPAw7iHwrvSo+FX/Lwd2Di8VfQ+HBcL3e/OB9c/4APuk93rzRvMc9m73T/en8RDw7PJe/fwIDRSWHS0d8BKzA9z1v+lr59Lp2vYfBNII0QW0+JTwkuix6cL1oQFiDM4SbxUVFZ0NBQW0+7/xMe4l7wb57QNABlwF2P+r+r759PqgABADKQgPDgoR4xGRD94JDgP5+wz0B+547N/0OQCUDQUQUQbL+EbwBvNg/UQMERVVF04T4g2BBKf9L/eY97X+8QOzBIb9wvpx/HwDMwgpBoz8LvlF/E4FsgmoBywI7wfgDC4MyATL+bjwOfET+r0BgwTU/xwAZAKyAWoCXAKpCAEPbhHkDKwCUvvU+uz99AKXAQb93/kb93/42Pea+Y7+/AV+D5cQMgrnAZv7HPyl/csAfQJQBWoKhgrXA/P6RPZ292n+HgGEAR39ZPxj/9cEsA33DFAJ6gPO/w/7Nff++az/9wMpBH3+J/Xq75DxFvzIBOoGhgUMBJAEXQOhAWQApgHKArcCA/3U9/D2QfycBBgFff629BXyt/edAAUH2ghABvkEFgRbBJEFNQIf/+f6Wvdp9I/znPnb/BH9U/vJ+V779vtn/FP8Tv8wBaYLiQ39ByD7Be5A6o/uW/fv/bsAmQBj+kf0hvDp8TD4dAArCisP+g77DBYJBgOG/C/3qvb69kf4Vftp/lIBzP/t+hD1X/A09Nj+kgklDRkICQIBAMICAQfKBmACwP1P+2T6bfeH9UP4//2aA6UDf/4C+4r7wwMTCsoKMwYyAksE7AdfCRkFef5295j13Pdu/rIC+AbiCOMF3/9U9zn2APt6BFELVw4lDSsHhwA++5T6Of50BaoK5QhWAQz54fWt+UwBnQYoCF8H4wURBdsEvgQCBiMIyAi9BpoA9Pru+IT8fQB/APMAZwAc/z399P/CBYcJAg3RDD0JkwM1/7r9QvxU+qn5K/yDAEb/DPlZ9eH24v0RBn0KbQipA/8CWwayCaUIdARx/j35CvVF8yX3DfwUAOT/Kv5F+gz5av6+BLIGPATlAegCrgQxBJQC5QA6AKj9O/vo+EL2kfXl+KH7cvwa+1r7avxq/soA0P8mAMMF+w3xDb8F4/xD+BX4UftUAKsCMwAy/Lf49/Qu79vsKvF0+pUD9QjICcMFTgAS/Fv8VwF8CTcPvQ4sCM3+C/fk9Kz43P0V/nD5nPWn9r37kgEVCM0JFQZk/9/7gP0lBL8Lmg7yCYj+8fRY8MXyw/aX+y4AtwIOA84A2Pw2+oD87wI5CfULRgtzB40DEAI5At4Ak/5p/V7+MP0i+hH2hPQ69238PgJ3AxYBZf7TACUHmgzyDO4JxQXSAjwCvQJbAWz9O/pj+Q77aftT+w37Vf1PAeAFRwc3BpsEzAPbBPYFKAT8AFMCcwZ7CK8DqPvw8j7wP/b4AsQLBA0JCmkEif/T+838zP5GA7gIuApVBrr8ufOG8Dj4uAVlDtQMUQP+9zz0mfqrBCYKtwijAln70fhH/LcAfAPbAsP/8Pso+cX5hv1CA/cEnwGQ+0z2Q/N+84v49P36/yL/NP7w/e/9BgCQBFwIxAbWAYv8p/mr+Pf4nvt2/oj/8f2k/BT8BPxm/EIAKAXMBrEE8gFNAN/+ev63AHUD8AIi/3j7ifoL/BwANgTmBs8FPwP1AdQBNAHw//QAowQuB+MFMgLy/sD9M/9iA50GnwX9AWsAtgFnBNcEhwHN/DX60vsKAK0DewOl/+78af2z//gBhQSrB2wIzQVdAJb7MvmT+5IA8gKHACD7fPab9H/2XfsBADUBvv9Y/Wz7iPmo+pcB9QhFCoUFL/309Sb0wPnBAckElAFg+2D3rvft+40AsAKVAuYBTQD8/Wf8RPw4/jkBNANXAVv8zvjf+dT+FAMyAyoA7vwt/Gn+YgFKA+8ClwFKARcCgALK/2T8rPxfAGwDoAMHAicABP9m/74AqQByAC8ClgUWB9QE0wDV/QD+NwCNAlUDPQK+/yj+Hv9IAVsCjAENATABQgGDAboCywNoA34CBAF9/h/8SPx//04DdAURBT0CP/4A/Hv9ngBKA5QEKARIAsf/xv3e+xX6efrf/NH/KQOpBZwEBgGe/tf+9v9WARgDzAKXAXsBwgC7/S37Efuj+y/9nQBxA9kCWwF2AJX/Av+G/87/zf4n/wcBSwOLBNoD3gCi/a78BP72/4UCvgRlBdUExgPQAZP+3/st+2n8qf4sAeUBDwEFAIj/yP4S/kf+AP8kANQCuwWSBv0EFQOwAsABZ/+//KL7c/y4/t4BhwNtASH8HPhn+IL7uv5dAf4CAAKF/539WP1l/az9r/6V/x7/v/2c/Jv8//1v/0L/eP59/t/+1f/4AW4EUARkAef8m/mx+Yn9SQLZA94Bgf5/+3756vko/cUA6AKmA54DmQLJACD/uP5//80A3gF4AdMAeAC3AIUAwf/X/tb9if1O/lQAlAKZAwYDBwKWASACgAJ2AqsCiAIDAWb+i/yu/OH9Gf+I/1n/Mf8y//r+Mf9yACgBUAC2/on+g/6M/tr/zAFoAgsBSv/0/G37XPwr/0sBiAInA8QBef7F+4z7IP2M//AA2f8n/ZD7E/zi/XYAEAIkAcn+6/yb/LT9QgBUA4UF7AUyBPgA3v2f/B/9Df99AV4DQQOMAcP/if43/pP+f/9ZAFcBVwI/A8ADBgP+AIj+Rv3e/Ub/XABWATMCLQIIAZz/2P7Q/or/OAE4A3YECwRJAoIAxf+6/8z/7f9nAA8BhgG/AQsBiv/m/UH92v1u/z8BNQITAkQBqQBbACcACQA0AFQAJwAZACwA2P/k/lT+X/55/uv+3f8GAYEBWgHcAEYAMAAdAaoCKAM5AmAAC//6/hQAUQF8AYkAUP/L/vb+o/9QAOIAfAENAiICOwH4/2r/UAD0AdICPgJdAI/+9P3N/gUATgDg/0L/C/9n/xMAcwB0AKEAYQH5AVoB6/+m/pr+hv/+AOkBUwEXAB//rv5y/oH+2v5o/+z/GwCJ/5r+TP76/j4A8ACdAKH/mP5Q/v7+9/9SACAAqv/5/mb+ev7t/hv/Hv/8/q3+Nf4K/h7+OP5i/qn+HP+3/xgA7P9q/0X/m/+4/6v/pf+C/xP/x/4Z/4L/O/+J/kv+w/6r/2gAqwB3ANb/Av+Q/uT+Z/95/13/hv/R/+v/2P+3/7r/DQDWAIwBmwEpAbwAswACAUgBDwFyAAAABgBhAJAAKgCS/3f/AABvACQAv//U/y8AmgDLAIUAzf8j/zr/FADoAOwAOQCU/3n/+v/LAFUBLQGoAC8A7P/Y/+j//v8jAIUAgwDZ//r+h/60/m//cAAXARkBsgAzAOT/+P9jAMkA7QDrAMUASQDp/wQAXACQAH0AVQAAALP/6f+lAFUBXwHKAAUAnP+9/z8A0gATAegAkgBRACEAEAAEAB0AWQCCAJwAowB/ADsAGAAfAB8A3/+l/7D/7P8vAF8AUgABAKz/ff+O/9L/MABkAGAAPgDc/0D/1/7i/jf/kP/H/+P/zv+D/xT/yP7a/jn/rP///xgAFAAXADAAXQAqAJT/L/9M/8H/MAB/AHQAFwC//6P/p/+n/7//EACDAM8A4ACYADcABQAKADcAXAAqAMX/o//n/yYAPQA2ABwABQDs/+j/2f/o/xEAUgCRAIcAJAC9/5f/p//S/wkAHQD7/9z/9/8sACcA+P/K/8b/4f8QADsAUQBZAEwAKwAEANT/n/+X/9j/DgDz/6X/ev+O/7P/1P/z////+P///y4AaQB/AGEAIwDr/77/w/8QAGgAhQBYABcA6f/f/+f/+v8mAGAAhwCOAIUAWAAUAPP/AgAfACEAHAArAEEANAAgAA0A/P/o/+f//v8IABcALABGAE4AKgDt/73/sP/D/9//5f/h/9//5f8AACoAMAAFAMn/oP+n/8z/AAAyAEgAMgD//9H/v//D/83/0v/Y/9X/0v/f/+v/5f/C/5//lP+j/77/3//4//7/6/+//5//kv+j/8L/5P/0/+n/1f/G/8P/wf/G/9L/4f/r//z/BQABAPT/5f/h/+z/9v/y/+j/4//j/+T/6f/s/+v/4f/f/9n/3f/l//b/BgANAAoA///r/+D/5//z/wUADgAJAAAA9v/3//r/+//z//L/9//8/wQADAAQAAwACAAEAAIAAAD/////AAACAAAA+P/z/+//9P8AAAQAAgD6//L/7f/z//r/+v/6//f/9//8//7/+v/2//P/9P/z//L/9v/7/wAABAACAP//+P/4////CAAOABEAEwAUABEADQAKAAYADgAZACoALwAqACAAGAAXABwAIQAoAC4ALAAvADIAMwAyADIANwA5ADkAOgA7AD4AQQBCAEIAPwA9ADoAOwA/AEMARQBCAEUAQgA+AD4AOwA9AD0APwBCAEMAPwA5ADIAKwAqACcALAAwADIALwArACoAJwAnACYAJgAjACAAHwAcAB0AHAAYABQADAAGAAIAAAAEAAYACQAIAAQAAAD+//v/+//8//z/+//8//v/+//6//b/8P/s/+n/6f/s/+//7//v/+n/5//l/+T/5f/l/+f/5//l/+X/4f/h/+T/4//n/+j/5f/j/+H/3//d/+H/4f/g/93/2v/Y/9j/1v/Z/9n/2P/W/9b/1P/U/9X/1f/Y/9j/1f/U/9X/1f/W/9n/2v/Y/9j/2P/Y/9z/2f/a/9z/2v/a/9z/2v/a/93/2v/Y/9j/1v/Z/93/4P/g/+H/4//h/+P/5P/k/+f/6P/p/+n/6P/p/+v/6f/r/+v/6f/r/+n/7P/s/+3/7//v/+//7//v//D/9P/2//b/9v/4//j/9//4//r/+//7//v//P//////AAABAAIAAgAEAAIABAAGAAYACAAIAAgABgAIAAkACgAKAAoADAAMAA4ADQAQABAAEQATABQAFAAVABUAFwAXABUAFwAYABgAGAAYABgAFwAZABkAGQAbABwAHAAcAB0AHQAdAB0AHQAdAB8AHwAfACAAIAAgAB8AHwAfAB0AHwAfAB8AHwAfAB8AHQAdABwAHQA=\" type=\"audio/wav\" />\n",
              "                    Your browser does not support the audio element.\n",
              "                </audio>\n",
              "              "
            ],
            "text/plain": [
              "<IPython.lib.display.Audio object>"
            ]
          },
          "metadata": {},
          "output_type": "display_data"
        }
      ],
      "source": [
        "display(Audio(audio_data_int16, rate=16000))"
      ]
    },
    {
      "cell_type": "code",
      "execution_count": 20,
      "metadata": {},
      "outputs": [
        {
          "data": {
            "text/html": [
              "\n",
              "                <audio  controls=\"controls\" >\n",
              "                    <source src=\"data:audio/wav;base64,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\" type=\"audio/wav\" />\n",
              "                    Your browser does not support the audio element.\n",
              "                </audio>\n",
              "              "
            ],
            "text/plain": [
              "<IPython.lib.display.Audio object>"
            ]
          },
          "execution_count": 20,
          "metadata": {},
          "output_type": "execute_result"
        }
      ],
      "source": [
        "from IPython.display import Audio\n",
        "import numpy as np\n",
        "\n",
        "# Assuming 'audio_data' contains your audio data\n",
        "# Modify 'start_sample' and 'end_sample' based on the range you want to play\n",
        "start_sample = 620000\n",
        "end_sample = 637952\n",
        "\n",
        "Audio(np.array(audio_data[start_sample:end_sample]), rate=sample_rate)\n"
      ]
    },
    {
      "cell_type": "code",
      "execution_count": null,
      "metadata": {
        "id": "B5-m2iXYrML5"
      },
      "outputs": [],
      "source": [
        "fig = px.scatter(audio_data_int16, title=\"Input audio\")\n",
        "fig.show()"
      ]
    },
    {
      "cell_type": "markdown",
      "metadata": {
        "id": "o49br1Pbrvgl"
      },
      "source": [
        "### **Reference constants**"
      ]
    },
    {
      "cell_type": "code",
      "execution_count": 4,
      "metadata": {
        "id": "j8uTvr8E9xt-"
      },
      "outputs": [],
      "source": [
        "command_samples = [\n",
        "    [142000, 160000],\n",
        "    [340000, 360000],\n",
        "    [620000, 635000]\n",
        "]\n",
        "\n",
        "nb_command_samples = sum([elem[1] - elem[0] for elem in command_samples])"
      ]
    },
    {
      "cell_type": "markdown",
      "metadata": {
        "id": "3767QEqjbiK0"
      },
      "source": [
        "#### **Ground truth**\n",
        "\n",
        "We establish the ground truth of the labels as follows:\n",
        "- Voice command samples are labeled as 0.\n",
        "- Everything that is not a command is labeled as 1."
      ]
    },
    {
      "cell_type": "code",
      "execution_count": 5,
      "metadata": {
        "id": "qnpGqbsL1f7i"
      },
      "outputs": [],
      "source": [
        "ground_truth = np.ones(len(audio_data_int16))\n",
        "for i in range(len(audio_data_int16)):\n",
        "    if any([i >= e[0] and i <= e[1] for e in command_samples]):\n",
        "        ground_truth[i] = 0"
      ]
    },
    {
      "cell_type": "code",
      "execution_count": null,
      "metadata": {
        "id": "3I3Xy3PN-Pyh"
      },
      "outputs": [],
      "source": [
        "fig = px.scatter(audio_data_int16, title=\"Input audio\")\n",
        "for elem in command_samples:\n",
        "    fig.add_vline(x=elem[0], line_color=\"red\")\n",
        "    fig.add_vline(x=elem[1], line_color=\"red\")\n",
        "fig.show()"
      ]
    },
    {
      "cell_type": "markdown",
      "metadata": {
        "id": "G2_8HJZ8gKIa"
      },
      "source": [
        "### **Evaluate results**"
      ]
    },
    {
      "cell_type": "markdown",
      "metadata": {
        "id": "GB76hUqxdsDY"
      },
      "source": [
        "Import result file"
      ]
    },
    {
      "cell_type": "code",
      "execution_count": 6,
      "metadata": {
        "id": "5qmQeIlwYQ5T"
      },
      "outputs": [],
      "source": [
        "result_path = 'results.pkl'\n",
        "\n",
        "# Open and read the list from the file\n",
        "with open(result_path, 'rb') as file:\n",
        "    results = pickle.load(file)"
      ]
    },
    {
      "cell_type": "markdown",
      "metadata": {
        "id": "OlTyJYz4dxRf"
      },
      "source": [
        "Calculate the overrun time for every sample, extract the labels."
      ]
    },
    {
      "cell_type": "code",
      "execution_count": 7,
      "metadata": {
        "id": "49dih-HHv1ck"
      },
      "outputs": [],
      "source": [
        "overrun_times_ms = (results[2] - results[0]) / 1e6\n",
        "labels = results[1]"
      ]
    },
    {
      "cell_type": "markdown",
      "metadata": {
        "id": "AvfWTfIQs5Iu"
      },
      "source": [
        "#### **Assertions**"
      ]
    },
    {
      "cell_type": "markdown",
      "metadata": {
        "id": "ldrCDeWPd381"
      },
      "source": [
        "A solution is valid if:\n",
        "- Samples have been labelled sequentially\n",
        "- Each sample has been processed in less than 50 ms\n",
        "\n",
        "These constraints aim to enforce the real time simulation."
      ]
    },
    {
      "cell_type": "code",
      "execution_count": 8,
      "metadata": {
        "colab": {
          "base_uri": "https://localhost:8080/",
          "height": 197
        },
        "id": "yXV9s_tfs4dd",
        "outputId": "136b4fde-969f-4e21-c954-b065e9c26094"
      },
      "outputs": [
        {
          "ename": "AssertionError",
          "evalue": "",
          "output_type": "error",
          "traceback": [
            "\u001b[0;31m---------------------------------------------------------------------------\u001b[0m",
            "\u001b[0;31mAssertionError\u001b[0m                            Traceback (most recent call last)",
            "Cell \u001b[0;32mIn[8], line 1\u001b[0m\n\u001b[0;32m----> 1\u001b[0m \u001b[38;5;28;01massert\u001b[39;00m np\u001b[38;5;241m.\u001b[39mall(np\u001b[38;5;241m.\u001b[39mdiff(results[\u001b[38;5;241m2\u001b[39m]) \u001b[38;5;241m>\u001b[39m\u001b[38;5;241m=\u001b[39m \u001b[38;5;241m0\u001b[39m) \u001b[38;5;66;03m# Labelling has been done sequentially\u001b[39;00m\n\u001b[1;32m      2\u001b[0m \u001b[38;5;28;01massert\u001b[39;00m np\u001b[38;5;241m.\u001b[39mall(overrun_times_ms \u001b[38;5;241m<\u001b[39m\u001b[38;5;241m=\u001b[39m \u001b[38;5;241m50\u001b[39m) \u001b[38;5;66;03m# Processing took less than 50 ms for each sample\u001b[39;00m\n",
            "\u001b[0;31mAssertionError\u001b[0m: "
          ]
        }
      ],
      "source": [
        "assert np.all(np.diff(results[2]) >= 0) # Labelling has been done sequentially\n",
        "assert np.all(overrun_times_ms <= 50) # Processing took less than 50 ms for each sample"
      ]
    },
    {
      "cell_type": "markdown",
      "metadata": {
        "id": "Az-r0gvauFXn"
      },
      "source": [
        "#### **Scoring**"
      ]
    },
    {
      "cell_type": "markdown",
      "metadata": {
        "id": "XXrhAZZTeiHu"
      },
      "source": [
        "The score is calculated by penalizing:\n",
        "- The samples that have been processed in more than 20 ms.\n",
        "- The samples of commands that have been broadcast.\n",
        "- The samples of communications that have not been broadcast."
      ]
    },
    {
      "cell_type": "code",
      "execution_count": 9,
      "metadata": {
        "colab": {
          "base_uri": "https://localhost:8080/"
        },
        "id": "I6zOtw9Bw6SE",
        "outputId": "cd5cb347-a231-49c0-89bd-0eeb42039b02"
      },
      "outputs": [
        {
          "name": "stdout",
          "output_type": "stream",
          "text": [
            "Score: 0.008185906797663303\n"
          ]
        }
      ],
      "source": [
        "slow_sample_labelling_thres = 20\n",
        "command_ratio = nb_command_samples / len(audio_data_int16)\n",
        "communication_ratio = 1 - nb_command_samples / len(audio_data_int16)\n",
        "\n",
        "score = len(audio_data_int16)\n",
        "\n",
        "for i in range(len(audio_data_int16)):\n",
        "    if overrun_times_ms[i] >= slow_sample_labelling_thres:\n",
        "        score -= 1\n",
        "    else:\n",
        "        if ground_truth[i] == 0 and labels[i] != 0: # unintentional broadcast\n",
        "            score -= int(1 / command_ratio)\n",
        "        if ground_truth[i] == 1 and labels[i] != 1: # lost communication\n",
        "            score -= int(1 / communication_ratio)\n",
        "\n",
        "print(f'Score: {score / len(audio_data_int16)}')"
      ]
    },
    {
      "cell_type": "code",
      "execution_count": 16,
      "metadata": {
        "id": "VvKkxKHk9q9U"
      },
      "outputs": [
        {
          "name": "stdout",
          "output_type": "stream",
          "text": [
            "Score: 0.49112121614445037\n",
            "Unintentional broadcasts: 25376\n",
            "Lost communications: 1536\n"
          ]
        }
      ],
      "source": [
        "# Desired sample rate 16000 Hz\n",
        "sample_rate = 16000\n",
        "\n",
        "# Frame length\n",
        "frame_length = 512\n",
        "\n",
        "# Path to the audio file\n",
        "audio_file = \"audio_aaico_challenge.wav\"\n",
        "\n",
        "# Read the audio file and resample it to the desired sample rate\n",
        "audio_data, current_sample_rate = librosa.load(\n",
        "    audio_file,\n",
        "    sr=sample_rate,\n",
        ")\n",
        "audio_data_int16 = (audio_data * 32767).astype(np.int16)\n",
        "\n",
        "number_of_frames = len(audio_data_int16) // frame_length\n",
        "\n",
        "audio_data_int16 = audio_data_int16[:number_of_frames * frame_length]\n",
        "audio_duration = len(audio_data_int16) / sample_rate\n",
        "\n",
        "command_samples = [\n",
        "    [142000, 160000],\n",
        "    [340000, 360000],\n",
        "    [620000, 635000]\n",
        "]\n",
        "\n",
        "nb_command_samples = sum([elem[1] - elem[0] for elem in command_samples])\n",
        "\n",
        "ground_truth = np.ones(len(audio_data_int16))\n",
        "for i in range(len(audio_data_int16)):\n",
        "    if any([i >= e[0] and i <= e[1] for e in command_samples]):\n",
        "        ground_truth[i] = 0\n",
        "\n",
        "result_path = 'results.pkl'\n",
        "\n",
        "# Open and read the list from the file\n",
        "with open(result_path, 'rb') as file:\n",
        "    results = pickle.load(file)\n",
        "    \n",
        "overrun_times_ms = (results[2] - results[0]) / 1e6\n",
        "labels = results[1]\n",
        "\n",
        "slow_sample_labelling_thres = 20\n",
        "command_ratio = nb_command_samples / len(audio_data_int16)\n",
        "communication_ratio = 1 - nb_command_samples / len(audio_data_int16)\n",
        "\n",
        "score = len(audio_data_int16)\n",
        "\n",
        "unintentional_broadcasts, lost_communications = 0, 0\n",
        "\n",
        "for i in range(len(audio_data_int16)):\n",
        "    if overrun_times_ms[i] >= slow_sample_labelling_thres:\n",
        "        score -= 1\n",
        "    else:\n",
        "        if ground_truth[i] == 0 and labels[i] != 0: # unintentional broadcast\n",
        "            # print(\"@\", i, labels[i])\n",
        "            score -= int(1 / command_ratio)\n",
        "            unintentional_broadcasts += 1\n",
        "        if ground_truth[i] == 1 and labels[i] != 1: # lost communication\n",
        "            score -= int(1 / communication_ratio)\n",
        "            lost_communications += 1\n",
        "\n",
        "print(f'Score: {score / len(audio_data_int16)}')\n",
        "print(f'Unintentional broadcasts: {unintentional_broadcasts}')\n",
        "print(f'Lost communications: {lost_communications}')"
      ]
    },
    {
      "cell_type": "code",
      "execution_count": null,
      "metadata": {},
      "outputs": [],
      "source": []
    }
  ],
  "metadata": {
    "colab": {
      "provenance": []
    },
    "kernelspec": {
      "display_name": "Python 3",
      "name": "python3"
    },
    "language_info": {
      "codemirror_mode": {
        "name": "ipython",
        "version": 3
      },
      "file_extension": ".py",
      "mimetype": "text/x-python",
      "name": "python",
      "nbconvert_exporter": "python",
      "pygments_lexer": "ipython3",
      "version": "3.11.6"
    }
  },
  "nbformat": 4,
  "nbformat_minor": 0
}
